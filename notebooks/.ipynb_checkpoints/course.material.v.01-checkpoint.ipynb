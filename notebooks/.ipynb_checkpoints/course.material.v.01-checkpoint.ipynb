{
 "cells": [
  {
   "cell_type": "markdown",
   "metadata": {
    "deletable": false,
    "editable": false,
    "run_control": {
     "frozen": true
    }
   },
   "source": [
    "# How To  Data Scrape With Chrome Using Python:"
   ]
  },
  {
   "cell_type": "markdown",
   "metadata": {
    "deletable": false,
    "editable": false,
    "run_control": {
     "frozen": true
    }
   },
   "source": [
    "## Add the neccesary frameworks into the Python:\n",
    "\n",
    "1. `import selenium`\n",
    "1. `import selenium.webdriver as webdriver`"
   ]
  },
  {
   "cell_type": "code",
   "execution_count": null,
   "metadata": {},
   "outputs": [],
   "source": [
    "## Add in the selenium framework to automate chrome:\n",
    "\n",
    "import selenium\n",
    "import selenium.webdriver as webdriver"
   ]
  },
  {
   "cell_type": "markdown",
   "metadata": {
    "deletable": false,
    "editable": false,
    "run_control": {
     "frozen": true
    }
   },
   "source": [
    "## Allow Chrome to run in `headless` mode by creating custom options:\n",
    "\n",
    "1. `custom_options = webdriver.ChromeOptions()`\n",
    "1. `custom_options.add_argument('headless')`"
   ]
  },
  {
   "cell_type": "code",
   "execution_count": null,
   "metadata": {},
   "outputs": [],
   "source": [
    "## Create and add in our custom options:\n",
    "\n",
    "custom_options = webdriver.ChromeOptions()\n",
    "custom_options.add_argument('--headless')\n",
    "\n",
    "## Edgecase:\n",
    "## Needed for Mybinder.org Google Cloud deployment when saving browser data to cache and forcing /tmp/\n",
    "custom_options.add_argument('--disable-dev-shm-usage')"
   ]
  },
  {
   "cell_type": "markdown",
   "metadata": {
    "deletable": false,
    "editable": false,
    "run_control": {
     "frozen": true
    }
   },
   "source": [
    "## Declare an instance of our headless Chrome browser\n",
    "\n",
    "1. `browser = webdriver.Chrome(options=custom_options)`"
   ]
  },
  {
   "cell_type": "code",
   "execution_count": null,
   "metadata": {},
   "outputs": [],
   "source": [
    "browser = webdriver.Chrome(options=custom_options)"
   ]
  },
  {
   "cell_type": "markdown",
   "metadata": {
    "deletable": false,
    "editable": false,
    "run_control": {
     "frozen": true
    }
   },
   "source": [
    "## Let's get a webpage loaded!\n",
    "\n",
    "1. `browser.get('https://www.amazon.com/')`"
   ]
  },
  {
   "cell_type": "code",
   "execution_count": null,
   "metadata": {},
   "outputs": [],
   "source": [
    "## Enter a webpage to load\n",
    "\n",
    "browser.get('https://www.amazon.com/')"
   ]
  },
  {
   "cell_type": "markdown",
   "metadata": {
    "deletable": false,
    "editable": false,
    "run_control": {
     "frozen": true
    }
   },
   "source": [
    "## A few ways to interact with the loaded web page:\n",
    "\n",
    "### Interact with the `html` of the web page:\n",
    "  - `html( browser.page_source )`\n",
    "  \n",
    "### View an `image` of the web page:  \n",
    "  - `image( browser.get_screenshot_as_png() )`\n",
    "  \n",
    "### Browse the source code of the `html ` web page:  \n",
    "  - `display( browser.page_source )`  "
   ]
  },
  {
   "cell_type": "code",
   "execution_count": null,
   "metadata": {},
   "outputs": [],
   "source": [
    "## Interact with the loaded webpage:\n",
    "\n",
    "image( browser.get_screenshot_as_png() )\n"
   ]
  },
  {
   "cell_type": "markdown",
   "metadata": {},
   "source": [
    "## Lets select a specific element from the web page:\n"
   ]
  },
  {
   "cell_type": "markdown",
   "metadata": {
    "deletable": false,
    "editable": false,
    "run_control": {
     "frozen": true
    }
   },
   "source": [
    "## Import the `Selenium` power tools for selection\n",
    "\n",
    " - from selenium.webdriver.common.by import By.TAG_NAME as tag_name\n"
   ]
  },
  {
   "cell_type": "code",
   "execution_count": null,
   "metadata": {},
   "outputs": [],
   "source": [
    "from selenium.webdriver.common.by import By\n"
   ]
  },
  {
   "cell_type": "code",
   "execution_count": null,
   "metadata": {},
   "outputs": [],
   "source": [
    "# browser.find_element(By.CSS_SELECTOR, 'a .nav-brand')\n",
    "logo = browser.find_element(By.CLASS_NAME, 'a-carousel-row-inner')"
   ]
  },
  {
   "cell_type": "code",
   "execution_count": null,
   "metadata": {},
   "outputs": [],
   "source": [
    "image( logo.screenshot_as_png )"
   ]
  },
  {
   "cell_type": "code",
   "execution_count": null,
   "metadata": {},
   "outputs": [],
   "source": [
    "# signup_button = browser.find_element(By.CSS_SELECTOR, 'a[href^=\"/signup\"]')\n",
    "# signup_button = browser.find_element(By.TAG_NAME, 'footer')\n"
   ]
  },
  {
   "cell_type": "code",
   "execution_count": null,
   "metadata": {},
   "outputs": [],
   "source": [
    "image( browser.find_element(By.ID, 'gw-card-layout').screenshot_as_png )"
   ]
  },
  {
   "cell_type": "markdown",
   "metadata": {
    "deletable": false,
    "editable": false,
    "run_control": {
     "frozen": true
    }
   },
   "source": [
    "## That's cool, but can we remove the scrollbars?\n",
    "\n",
    "\n",
    "### Absolultly! - Lets add in a custom option to our browser to hide the scrollbars:\n",
    "\n",
    " - `custom_options.add_argument('--hide-scrollbars')`"
   ]
  },
  {
   "cell_type": "code",
   "execution_count": null,
   "metadata": {},
   "outputs": [],
   "source": [
    "## Add in your custom option to hide scrollbars:\n",
    "\n",
    "custom_options.add_argument('--hide-scrollbars')"
   ]
  },
  {
   "cell_type": "code",
   "execution_count": null,
   "metadata": {
    "deletable": false,
    "editable": false
   },
   "outputs": [],
   "source": [
    "## We have to close and create the browser, because we are adding in new options.\n",
    "## Run the code to refresh the options and browser:\n",
    "\n",
    "browser.close()\n",
    "browser = webdriver.Chrome(options=custom_options)\n",
    "browser.get('https://www.amazon.com/')"
   ]
  },
  {
   "cell_type": "code",
   "execution_count": null,
   "metadata": {},
   "outputs": [],
   "source": [
    "## image( browser.find_element(By.CLASS_NAME, 'a-cardui-header').screenshot_as_png )\n",
    "\n",
    "image( browser.find_element(By.CLASS_NAME, 'a-image-container').screenshot_as_png )"
   ]
  },
  {
   "cell_type": "markdown",
   "metadata": {
    "deletable": false,
    "editable": false,
    "run_control": {
     "frozen": true
    }
   },
   "source": [
    "## Cool, now lets do something practical!\n",
    "\n",
    "### Lets load the best selling books from Amazon:\n",
    "\n",
    " - `https://www.amazon.com/gp/bestsellers/2019/books/`"
   ]
  },
  {
   "cell_type": "code",
   "execution_count": null,
   "metadata": {},
   "outputs": [],
   "source": [
    "## Load the url into the browser\n",
    "\n",
    "browser.get('https://www.amazon.com/gp/bestsellers/2019/books/')"
   ]
  },
  {
   "cell_type": "code",
   "execution_count": null,
   "metadata": {},
   "outputs": [],
   "source": [
    "## We can view or interact with the new loaded page:\n",
    "\n",
    "image( browser.get_screenshot_as_png() )"
   ]
  },
  {
   "cell_type": "code",
   "execution_count": null,
   "metadata": {},
   "outputs": [],
   "source": [
    "## The html is local, served in an iframe:\n",
    "## which means we can inspect with the Chrome Devtools:\n",
    "\n",
    "html( browser.page_source )"
   ]
  },
  {
   "cell_type": "markdown",
   "metadata": {
    "deletable": false,
    "editable": false,
    "run_control": {
     "frozen": true
    }
   },
   "source": [
    "## We can do everything that we would normally do in the browser\n",
    "\n",
    "## Let's run some `Javascript` inside the DOM of the loaded browser page\n",
    "\n",
    " - `browser.execute_script( 'return Date.now().toString()' )`"
   ]
  },
  {
   "cell_type": "code",
   "execution_count": null,
   "metadata": {},
   "outputs": [],
   "source": [
    "browser.execute_script( 'return Date.now().toString()' )"
   ]
  },
  {
   "cell_type": "code",
   "execution_count": null,
   "metadata": {},
   "outputs": [],
   "source": [
    "multiline_code = '''\n",
    "var book_data =  Array.from(\n",
    "    document.querySelectorAll('.aok-inline-block.zg-item'))\n",
    "    .map((element) => element.innerText.trim());\n",
    "\n",
    "return book_data[0].split('\\\\n')[1]\n",
    "'''\n",
    "\n",
    "browser.execute_script(multiline_code)"
   ]
  },
  {
   "cell_type": "code",
   "execution_count": null,
   "metadata": {},
   "outputs": [],
   "source": [
    "multiline_code = '''\n",
    "var book_data = \n",
    "    Array.from(document.querySelectorAll('.aok-inline-block.zg-item'))\n",
    "    .map((element, index) => {\n",
    "     var book = element.innerText.trim().split('\\\\n')\n",
    "        return {\n",
    "            id: index,\n",
    "            title: book[0],\n",
    "            author: book[1],\n",
    "            reviews: book[2],\n",
    "            price: book[4],\n",
    "        }\n",
    "    });\n",
    "     \n",
    "return book_data;\n",
    "'''\n",
    "\n",
    "result = browser.execute_script(multiline_code)"
   ]
  },
  {
   "cell_type": "code",
   "execution_count": null,
   "metadata": {},
   "outputs": [],
   "source": [
    "print(result)"
   ]
  },
  {
   "cell_type": "code",
   "execution_count": null,
   "metadata": {},
   "outputs": [],
   "source": [
    "import urllib.parse"
   ]
  },
  {
   "cell_type": "code",
   "execution_count": null,
   "metadata": {},
   "outputs": [],
   "source": [
    "search_query = urllib.parse.quote( result[0]['author'] + ' ' + result[0]['title'] )"
   ]
  },
  {
   "cell_type": "code",
   "execution_count": null,
   "metadata": {},
   "outputs": [],
   "source": [
    "print( search_query )"
   ]
  },
  {
   "cell_type": "code",
   "execution_count": null,
   "metadata": {},
   "outputs": [],
   "source": []
  },
  {
   "cell_type": "code",
   "execution_count": null,
   "metadata": {},
   "outputs": [],
   "source": [
    "search_url = 'https://www.listennotes.com/search/?q='\n",
    "search_url += search_query\n",
    "search_url += '&sort_by_date=0&scope=episode&offset=0&language=Any%20language&len_min=0'"
   ]
  },
  {
   "cell_type": "code",
   "execution_count": null,
   "metadata": {},
   "outputs": [],
   "source": [
    "print(search_url)"
   ]
  },
  {
   "cell_type": "code",
   "execution_count": null,
   "metadata": {},
   "outputs": [],
   "source": [
    "browser.get(search_url)"
   ]
  },
  {
   "cell_type": "code",
   "execution_count": null,
   "metadata": {},
   "outputs": [],
   "source": [
    "image( browser.get_screenshot_as_png() )"
   ]
  },
  {
   "cell_type": "code",
   "execution_count": null,
   "metadata": {},
   "outputs": [],
   "source": []
  }
 ],
 "metadata": {
  "kernelspec": {
   "display_name": "Python 3",
   "language": "python",
   "name": "python3"
  },
  "language_info": {
   "codemirror_mode": {
    "name": "ipython",
    "version": 3
   },
   "file_extension": ".py",
   "mimetype": "text/x-python",
   "name": "python",
   "nbconvert_exporter": "python",
   "pygments_lexer": "ipython3",
   "version": "3.7.3"
  }
 },
 "nbformat": 4,
 "nbformat_minor": 2
}
