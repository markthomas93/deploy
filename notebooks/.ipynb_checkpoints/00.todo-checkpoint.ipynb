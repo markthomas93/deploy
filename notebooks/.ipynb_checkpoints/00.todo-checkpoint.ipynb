{
 "cells": [
  {
   "cell_type": "markdown",
   "metadata": {},
   "source": [
    "notes for friday:\n",
    "\n",
    "### readme documenation update\n",
    " - include `binder` folder documenation of order files\n",
    " - links to jupyter mybiner notebook `readme` for advanced building of images\n",
    " \n",
    "### Jupyter BookCast Scrape with Selenium Update (feature: mica)\n",
    " - add flexbox styling to final results\n",
    " - remove excess `get_screenshot_as_png()`\n",
    "  > mentioned by Kat\n",
    " - being able to select beyond the year 1994\n",
    "  > mentioned by Mica\n",
    " - advanced techniques:\n",
    "  > mentioned by paul kamp (focus is on backend dev and twilio quest)\n",
    "  "
   ]
  },
  {
   "cell_type": "code",
   "execution_count": null,
   "metadata": {},
   "outputs": [],
   "source": []
  }
 ],
 "metadata": {
  "kernelspec": {
   "display_name": "Python 3",
   "language": "python",
   "name": "python3"
  },
  "language_info": {
   "codemirror_mode": {
    "name": "ipython",
    "version": 3
   },
   "file_extension": ".py",
   "mimetype": "text/x-python",
   "name": "python",
   "nbconvert_exporter": "python",
   "pygments_lexer": "ipython3",
   "version": "3.7.3"
  }
 },
 "nbformat": 4,
 "nbformat_minor": 2
}
