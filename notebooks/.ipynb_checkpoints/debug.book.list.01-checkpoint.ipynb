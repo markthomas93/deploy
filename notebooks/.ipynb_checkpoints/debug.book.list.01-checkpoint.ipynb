{
 "cells": [
  {
   "cell_type": "code",
   "execution_count": 1,
   "metadata": {},
   "outputs": [],
   "source": [
    "## Add in the Selenium framework to automate Chrome:\n",
    "\n",
    "import json\n",
    "import selenium\n",
    "import selenium.webdriver as webdriver\n"
   ]
  },
  {
   "cell_type": "code",
   "execution_count": 2,
   "metadata": {},
   "outputs": [],
   "source": [
    "## Create and add in our custom options:\n",
    "\n",
    "custom_options = webdriver.ChromeOptions()\n",
    "custom_options.add_argument('headless')"
   ]
  },
  {
   "cell_type": "code",
   "execution_count": 3,
   "metadata": {},
   "outputs": [],
   "source": [
    "## Edgecase:\n",
    "## Needed for Mybinder.org Google Cloud deployment when saving browser data to cache and forcing /tmp/\n",
    "\n",
    "custom_options.add_argument('--disable-dev-shm-usage')"
   ]
  },
  {
   "cell_type": "code",
   "execution_count": 4,
   "metadata": {},
   "outputs": [],
   "source": [
    "## Create the browser:\n",
    "\n",
    "browser = webdriver.Chrome(options=custom_options)"
   ]
  },
  {
   "cell_type": "code",
   "execution_count": 5,
   "metadata": {
    "scrolled": true
   },
   "outputs": [
    {
     "data": {
      "application/vnd.jupyter.widget-view+json": {
       "model_id": "292d5165e15740dfae41999956ce6b8f",
       "version_major": 2,
       "version_minor": 0
      },
      "text/plain": [
       "IntSlider(value=2010, description='Year:', max=2019, min=1941)"
      ]
     },
     "metadata": {},
     "output_type": "display_data"
    },
    {
     "data": {
      "application/vnd.jupyter.widget-view+json": {
       "model_id": "5c5708438a4445129d9024161f1acc80",
       "version_major": 2,
       "version_minor": 0
      },
      "text/plain": [
       "IntText(value=2010, description='1941-2019:')"
      ]
     },
     "metadata": {},
     "output_type": "display_data"
    }
   ],
   "source": [
    "## Edgecase:\n",
    "## - NewYorkTimes Fiction Years are consistent beyond 1940.\n",
    "## - Non-Fiction starts around the year 2000.\n",
    "\n",
    "year_slider = widgets.IntSlider(\n",
    "    min=1941,\n",
    "    max=2019,\n",
    "    step=1,\n",
    "    value=2010,\n",
    "    description='Year:',\n",
    "    disabled=False,\n",
    "    orientation='horizontal',\n",
    ")\n",
    "\n",
    "year_textbox = widgets.IntText(\n",
    "    min=1941,\n",
    "    max=2019,\n",
    "    value=year_slider.value,\n",
    "    description='1941-2019:',\n",
    "    orientation='horizontal',\n",
    "    disabled=False\n",
    ")\n",
    "\n",
    "\n",
    "widgets.jslink((year_textbox, 'value'), (year_slider, 'value'))\n",
    "\n",
    "\n",
    "display(year_slider, year_textbox)\n"
   ]
  },
  {
   "cell_type": "code",
   "execution_count": 6,
   "metadata": {},
   "outputs": [],
   "source": [
    "## Create the New York Times Best Seller Historical List:\n",
    "\n",
    "nytimes_url = 'https://en.wikipedia.org/wiki/The_New_York_Times_Fiction_Best_Sellers_of_{}'.format(year_slider.value)"
   ]
  },
  {
   "cell_type": "code",
   "execution_count": 7,
   "metadata": {},
   "outputs": [
    {
     "name": "stdout",
     "output_type": "stream",
     "text": [
      "https://en.wikipedia.org/wiki/The_New_York_Times_Fiction_Best_Sellers_of_2010\n"
     ]
    }
   ],
   "source": [
    "print( nytimes_url )"
   ]
  },
  {
   "cell_type": "code",
   "execution_count": 8,
   "metadata": {},
   "outputs": [],
   "source": [
    "browser.get(nytimes_url)"
   ]
  },
  {
   "cell_type": "code",
   "execution_count": 9,
   "metadata": {},
   "outputs": [],
   "source": [
    "## Import the selection tools from Selenium:\n",
    "\n",
    "from selenium.webdriver.common.by import By "
   ]
  },
  {
   "cell_type": "code",
   "execution_count": 10,
   "metadata": {},
   "outputs": [],
   "source": [
    "## Table selection of row data via CSS_SELECTOR and child selection via nth-child()\n",
    "\n",
    "element_titles = browser.find_elements(By.CSS_SELECTOR, 'td:nth-last-child(3) ~ td:nth-child(2)' )\n",
    "element_authors = browser.find_elements(By.CSS_SELECTOR, 'td:nth-last-child(3) ~ td:nth-child(3)' )\n",
    "\n"
   ]
  },
  {
   "cell_type": "code",
   "execution_count": 11,
   "metadata": {},
   "outputs": [
    {
     "name": "stdout",
     "output_type": "stream",
     "text": [
      "{'title': 'The Lost Symbol', 'author': 'Dan Brown'}\n"
     ]
    }
   ],
   "source": [
    "## Create JSON structure via a Python Dictionary\n",
    "\n",
    "unsorted_books = [{\n",
    "    \n",
    "    'title': title.get_attribute('innerText'),\n",
    "    'author': author.get_attribute('innerText')}\n",
    "    \n",
    "    for title, author in zip( element_titles,element_authors )\n",
    "]\n",
    "\n",
    "\n",
    "print( unsorted_books[0] )"
   ]
  },
  {
   "cell_type": "code",
   "execution_count": 12,
   "metadata": {},
   "outputs": [
    {
     "name": "stdout",
     "output_type": "stream",
     "text": [
      "json: 38\n",
      "tites: 38\n",
      "authors: 38\n"
     ]
    }
   ],
   "source": [
    "## Debug:\n",
    "## confirm that all results are the same length, and scraped properly\n",
    "\n",
    "print('json:' , len(unsorted_books) )\n",
    "print('tites:', len(element_titles) )\n",
    "print('authors:', len(element_authors) )"
   ]
  },
  {
   "cell_type": "code",
   "execution_count": 13,
   "metadata": {},
   "outputs": [],
   "source": [
    "## Notes:\n",
    "\n",
    "## Map the json.dumps,\n",
    "## to encode the dictionaries as json objects which are immutable.\n",
    "\n",
    "## Set can then be used to produce an iterable of unique immutables.\n",
    "\n",
    "## Finally, we convert back to our dictionary representation using json.loads\n",
    "## Note that initially, one must sort by keys to arrange the dictionaries in a unique form.\n",
    "\n",
    "books = sorted(list(\n",
    "    map(\n",
    "        json.loads, set( map(json.dumps, unsorted_books) )\n",
    "    )\n",
    "),key=lambda key_value: key_value['title']) \n",
    "\n",
    "## Debug:\n",
    "## confirm that books are now sorted by alphanum via title, \n",
    "## print( books )"
   ]
  },
  {
   "cell_type": "code",
   "execution_count": 14,
   "metadata": {},
   "outputs": [],
   "source": [
    "## UI widget for book selection\n",
    "\n",
    "ui_list = []\n",
    "\n",
    "for item in books:\n",
    "    ui_list.append('{} : {}'.format(item['title'],item['author'])) \n",
    "\n",
    "ui_list.sort()"
   ]
  },
  {
   "cell_type": "code",
   "execution_count": 15,
   "metadata": {
    "scrolled": true
   },
   "outputs": [
    {
     "data": {
      "application/vnd.jupyter.widget-view+json": {
       "model_id": "7463138c0a354333beac04711160bbaa",
       "version_major": 2,
       "version_minor": 0
      },
      "text/plain": [
       "Dropdown(description='books:', options=('61 Hours : Lee Child', 'American Assassin : Vince Flynn', 'Caught : H…"
      ]
     },
     "metadata": {},
     "output_type": "display_data"
    }
   ],
   "source": [
    "ui_index = widgets.IntText(\n",
    "    min=0,\n",
    "    max=(len(ui_list)-1),\n",
    "    value=0,\n",
    "    step=1,\n",
    "    description='index:',\n",
    "    disabled=False\n",
    ")\n",
    "\n",
    "\n",
    "ui_dropdown = widgets.Dropdown(\n",
    "    options=ui_list,\n",
    "    description='books:',\n",
    "    disabled=False,\n",
    ")\n",
    "\n",
    "\n",
    "widgets.jslink( (ui_index, 'value'), (ui_dropdown, 'index'))\n",
    "\n",
    "display(ui_dropdown)\n",
    "\n",
    "## Debug:\n",
    "## confirm that book selection and ui widget are the correct output\n",
    "# print(books[ui_dropdown.index]['title'])\n",
    "# print(books[ui_dropdown.index]['author'])"
   ]
  },
  {
   "cell_type": "code",
   "execution_count": 16,
   "metadata": {
    "scrolled": true
   },
   "outputs": [
    {
     "data": {
      "application/vnd.jupyter.widget-view+json": {
       "model_id": "eeb92308c38d488fabbfe7afb90ae17e",
       "version_major": 2,
       "version_minor": 0
      },
      "text/plain": [
       "SelectMultiple(description='Book Selection:', options=('61 Hours : Lee Child', 'American Assassin : Vince Flyn…"
      ]
     },
     "metadata": {},
     "output_type": "display_data"
    }
   ],
   "source": [
    "ui_html = widgets.HTML\n",
    "ui_book_selection = widgets.SelectMultiple(\n",
    "    options=ui_list,\n",
    "    rows=5,\n",
    "    description='Book Selection:',\n",
    "    disabled=False\n",
    ")\n",
    "\n",
    "display( ui_book_selection )"
   ]
  },
  {
   "cell_type": "code",
   "execution_count": 24,
   "metadata": {},
   "outputs": [
    {
     "name": "stdout",
     "output_type": "stream",
     "text": [
      "[\"The Girl Who Kicked the Hornets' Nest Stieg Larsson\"]\n"
     ]
    }
   ],
   "source": [
    "book_covers_to_fetch = []\n",
    "\n",
    "for item in range(len(ui_book_selection.index)):\n",
    "    selected = ui_book_selection.index[item]\n",
    "    book_covers_to_fetch.append(\n",
    "        str(\n",
    "            '{} {}'.format(books[selected]['title'],books[selected]['author'])\n",
    "        )\n",
    "    )\n",
    "\n",
    "\n",
    "print(book_covers_to_fetch)"
   ]
  },
  {
   "cell_type": "code",
   "execution_count": 25,
   "metadata": {},
   "outputs": [],
   "source": [
    "## Documentation:\n",
    "## Complex css selector, to avoid using loops and itterators with javascript or python\n",
    "## Example:\n",
    "## browser.find_element(By.CSS_SELECTOR, 'a[title*=\"{}\"]'.format( books[ui_dropdown.index]['title']) )"
   ]
  },
  {
   "cell_type": "code",
   "execution_count": 26,
   "metadata": {},
   "outputs": [],
   "source": [
    "## We will need to URL Encode and parse search_query for ListenNotes.com \n",
    "\n",
    "import urllib.parse"
   ]
  },
  {
   "cell_type": "code",
   "execution_count": 27,
   "metadata": {},
   "outputs": [
    {
     "name": "stdout",
     "output_type": "stream",
     "text": [
      "query:  https://www.goodreads.com/search?utf8=%E2%9C%93&q=61%20Hours%20Lee%20Child&search_type=books\n",
      "title: 61 Hours\n",
      "author: Lee Child\n"
     ]
    }
   ],
   "source": [
    "## Edgecase:\n",
    "## Wikipedia is unreliable for finding consitent book covers!\n",
    "## Use GoodReads search urls to select the first result\n",
    "## Example: \n",
    "## https://www.goodreads.com/search?utf8=%E2%9C%93&q={TITLE}+{AUTHOR}&search_type=books\n",
    "\n",
    "selected_title = books[ui_dropdown.index]['title']\n",
    "selected_author = books[ui_dropdown.index]['author']\n",
    "\n",
    "book_query =  urllib.parse.quote( selected_title + ' ' + selected_author )\n",
    "goodreads_query = 'https://www.goodreads.com/search?utf8=%E2%9C%93&q={}&search_type=books'.format(book_query)\n",
    "\n",
    "\n",
    "print('query: ', goodreads_query)\n",
    "print('title:', selected_title )\n",
    "print('author:', selected_author )"
   ]
  },
  {
   "cell_type": "code",
   "execution_count": 28,
   "metadata": {},
   "outputs": [
    {
     "name": "stdout",
     "output_type": "stream",
     "text": [
      "['https://www.goodreads.com/search?utf8=%E2%9C%93&q=The%20Girl%20Who%20Kicked%20the%20Hornets%27%20Nest%20Stieg%20Larsson&search_type=books']\n"
     ]
    }
   ],
   "source": [
    "book_queries = []\n",
    "\n",
    "for item in book_covers_to_fetch:\n",
    "    book_queries.append(\n",
    "        'https://www.goodreads.com/search?utf8=%E2%9C%93&q={}&search_type=books'.format(urllib.parse.quote(item))\n",
    "    )\n",
    "\n",
    "print( book_queries )"
   ]
  },
  {
   "cell_type": "code",
   "execution_count": 22,
   "metadata": {},
   "outputs": [],
   "source": [
    "from selenium.common.exceptions import TimeoutException\n",
    "from selenium.webdriver.support.ui import WebDriverWait\n",
    "from selenium.webdriver.support import expected_conditions as EC\n"
   ]
  },
  {
   "cell_type": "code",
   "execution_count": null,
   "metadata": {},
   "outputs": [],
   "source": []
  },
  {
   "cell_type": "code",
   "execution_count": 39,
   "metadata": {},
   "outputs": [
    {
     "name": "stdout",
     "output_type": "stream",
     "text": [
      "The Girl Who Kicked the Hornet's Nest by Stieg Larsson | Summary & Study Guide\n",
      "0\n",
      "The Girl Who Kicked the Hornet's Nest (Millennium, #3)\n",
      "1\n",
      "Stieg Larsson Set: Girl with the Dragon Tattoo, the Girl Who Played with Fire, the Girl Who Kicked the Hornets' Nest\n",
      "2\n",
      "The Girl Who Kicked the Hornet's Nest (Millennium: The Graphic Novels, #3)\n",
      "3\n",
      "The Girl Who Kicked the Hornet's Nest\n",
      "4\n",
      "The Unauthorized Guide to the Real World Stories Behind Stieg Larsson's the Girl Who Kicked the Hornet's Nest\n",
      "5\n",
      "Stieg Larsson Millennium Trilogy Collection 4 Books Set (The Girl with the Dragon Tattoo, The Girl Who Kicked the Hornets' Nest, The Girl Who Played with Fire, The Girl in the Spider's Web: Continuing Stieg Larsson's Millennium Series)\n",
      "6\n",
      "The Girl Who Kicked the Hornet's Nest, vol 3\n",
      "7\n"
     ]
    }
   ],
   "source": [
    "# book_cover_url = browser.find_element(By.CSS_SELECTOR, 'a[title*=\"{}\"]'.format( selected_title ) ).get_attribute('href')\n",
    "\n",
    "\n",
    "\n",
    "\n",
    "book_covers = []\n",
    "\n",
    "for item in range(len(ui_book_selection.index)):\n",
    "    selected_item = ui_book_selection.index[item]\n",
    "    selected_title = books[selected_item]['title']\n",
    "    browser.get( book_queries[item] )\n",
    "    browser.implicitly_wait(1)\n",
    "    ## Edgecase:\n",
    "    ## Some titles are truncated and shortend when selecting the image text\n",
    "    ## Use the span selection text for more reliable results.\n",
    "    possible_urls = browser.find_elements(By.CSS_SELECTOR, '.bookTitle > span')\n",
    "    for result in range(len(possible_urls)):\n",
    "        print( possible_urls[result].get_attribute('innerText') )\n",
    "        print( result )\n"
   ]
  },
  {
   "cell_type": "code",
   "execution_count": null,
   "metadata": {},
   "outputs": [],
   "source": [
    "    \n",
    "    \n",
    "#     book_cover_url = browser.find_element(By.CSS_SELECTOR, 'a[title*=\"{}\"]'.format(selected_title)).get_attribute('href')\n",
    "    # book_cover_url = browser.find_element(By.CSS_SELECTOR, 'a[title*=\"{}\"]'.format(selected_title)).get_attribute('href')\n",
    "#     browser.get( book_cover_url )\n",
    "#     timeout_delay = 3\n",
    "#     try:\n",
    "#         element_present = EC.presence_of_element_located((By.CLASS_NAME, 'enlargeCover'))\n",
    "#         WebDriverWait(browser, timeout_delay).until(element_present)\n",
    "#         cover_image = browser.find_element(By.CSS_SELECTOR, '.editionCover > img').get_attribute('src')\n",
    "#         book_covers.append( cover_image )\n",
    "#     except TimeoutException:\n",
    "#         print('Error: Timed Out Waiting For Element Presence')\n",
    "\n",
    "\n",
    "    \n",
    "    # Debug:\n",
    "    # book_covers.append( browser.get_screenshot_as_png() )\n",
    "    ## Edgecase:\n",
    "    ## Fails on using CSS_SELECTOR in a loop, works fine outside the loop when selecting an individual selector\n",
    "#     cover_image = browser.execute_script('''\n",
    "#         document.querySelector('.editionCover').getAttribute('src')\n",
    "#     ''')\n",
    "    # cover_image = browser.find_element(By.CSS_SELECTOR, '.editionCover > img').get_attribute('src')\n",
    "#     book_covers.append( browser.find_element(By.CSS_SELECTOR, '.editionCover > img').get_attribute('src'))\n"
   ]
  },
  {
   "cell_type": "code",
   "execution_count": null,
   "metadata": {},
   "outputs": [],
   "source": [
    "print( book_covers )"
   ]
  },
  {
   "cell_type": "code",
   "execution_count": null,
   "metadata": {},
   "outputs": [],
   "source": []
  },
  {
   "cell_type": "code",
   "execution_count": null,
   "metadata": {},
   "outputs": [],
   "source": []
  },
  {
   "cell_type": "code",
   "execution_count": null,
   "metadata": {},
   "outputs": [],
   "source": []
  },
  {
   "cell_type": "code",
   "execution_count": null,
   "metadata": {},
   "outputs": [],
   "source": []
  },
  {
   "cell_type": "code",
   "execution_count": null,
   "metadata": {},
   "outputs": [],
   "source": []
  },
  {
   "cell_type": "code",
   "execution_count": null,
   "metadata": {},
   "outputs": [],
   "source": []
  },
  {
   "cell_type": "code",
   "execution_count": null,
   "metadata": {},
   "outputs": [],
   "source": []
  },
  {
   "cell_type": "code",
   "execution_count": null,
   "metadata": {},
   "outputs": [],
   "source": []
  },
  {
   "cell_type": "code",
   "execution_count": null,
   "metadata": {},
   "outputs": [],
   "source": []
  },
  {
   "cell_type": "code",
   "execution_count": null,
   "metadata": {},
   "outputs": [],
   "source": [
    "## Debug:\n",
    "# image( book_covers[2] )"
   ]
  },
  {
   "cell_type": "code",
   "execution_count": null,
   "metadata": {},
   "outputs": [],
   "source": [
    "# browser.get(goodreads_query)"
   ]
  },
  {
   "cell_type": "code",
   "execution_count": null,
   "metadata": {
    "scrolled": true
   },
   "outputs": [],
   "source": [
    "## Debug:\n",
    "## confirm that no CAPTCHA were loaded\n",
    "## image( browser.get_screenshot_as_png() )"
   ]
  },
  {
   "cell_type": "code",
   "execution_count": null,
   "metadata": {},
   "outputs": [],
   "source": [
    "goodreads_url = browser.find_element(By.CSS_SELECTOR, 'a[title*=\"{}\"]'.format( selected_title ) ).get_attribute('href')"
   ]
  },
  {
   "cell_type": "code",
   "execution_count": null,
   "metadata": {},
   "outputs": [],
   "source": [
    "browser.get( goodreads_url )"
   ]
  },
  {
   "cell_type": "code",
   "execution_count": null,
   "metadata": {},
   "outputs": [],
   "source": [
    "## Debug:\n",
    "# image( browser.get_screenshot_as_png() )"
   ]
  },
  {
   "cell_type": "code",
   "execution_count": null,
   "metadata": {},
   "outputs": [],
   "source": [
    "goodreads_book_cover = browser.find_element(By.CSS_SELECTOR, '.editionCover > img').get_attribute('src')"
   ]
  },
  {
   "cell_type": "code",
   "execution_count": null,
   "metadata": {},
   "outputs": [],
   "source": [
    "image( goodreads_book_cover )"
   ]
  },
  {
   "cell_type": "code",
   "execution_count": null,
   "metadata": {},
   "outputs": [],
   "source": []
  },
  {
   "cell_type": "code",
   "execution_count": null,
   "metadata": {},
   "outputs": [],
   "source": [
    "# element_urls = []\n",
    "\n",
    "# for item in books:\n",
    "#     css_regex = 'a[title*=\"{}\"]'.format(item['title'])\n",
    "#     element_urls.append(browser.find_element(By.CSS_SELECTOR, css_regex))\n",
    "\n",
    "# print( len(element_urls) )"
   ]
  },
  {
   "cell_type": "code",
   "execution_count": null,
   "metadata": {},
   "outputs": [],
   "source": [
    "# documentation: https://seleniumhq.github.io/selenium/docs/api/py/webdriver/selenium.webdriver.common.action_chains.html\n",
    "\n",
    "# from selenium.webdriver.common.action_chains import ActionChains\n"
   ]
  },
  {
   "cell_type": "code",
   "execution_count": null,
   "metadata": {},
   "outputs": [],
   "source": [
    "\n",
    "# actions = ActionChains(browser)\n",
    "\n",
    "# hover_over_element = actions.move_to_element(element_url)\n",
    "# browser.implicitly_wait(1)\n",
    "# hover_over_element.perform()\n",
    "\n",
    "\n",
    "\n"
   ]
  },
  {
   "cell_type": "markdown",
   "metadata": {},
   "source": [
    "---"
   ]
  },
  {
   "cell_type": "code",
   "execution_count": null,
   "metadata": {},
   "outputs": [],
   "source": []
  },
  {
   "cell_type": "code",
   "execution_count": null,
   "metadata": {},
   "outputs": [],
   "source": []
  },
  {
   "cell_type": "code",
   "execution_count": null,
   "metadata": {},
   "outputs": [],
   "source": []
  },
  {
   "cell_type": "code",
   "execution_count": null,
   "metadata": {},
   "outputs": [],
   "source": []
  },
  {
   "cell_type": "code",
   "execution_count": null,
   "metadata": {},
   "outputs": [],
   "source": []
  },
  {
   "cell_type": "code",
   "execution_count": null,
   "metadata": {},
   "outputs": [],
   "source": []
  },
  {
   "cell_type": "code",
   "execution_count": null,
   "metadata": {},
   "outputs": [],
   "source": []
  },
  {
   "cell_type": "code",
   "execution_count": null,
   "metadata": {},
   "outputs": [],
   "source": []
  },
  {
   "cell_type": "code",
   "execution_count": null,
   "metadata": {},
   "outputs": [],
   "source": []
  },
  {
   "cell_type": "code",
   "execution_count": null,
   "metadata": {},
   "outputs": [],
   "source": [
    "\n",
    "# widgets.SelectMultiple(\n",
    "#     options=['Apples', 'Oranges', 'Pears'],\n",
    "#     value=['Oranges'],\n",
    "#     #rows=10,\n",
    "#     description='Fruits',\n",
    "#     disabled=False\n",
    "# )\n",
    "# import html\n",
    "\n",
    "# html_options = []\n",
    "\n",
    "# for item in books:\n",
    "#     title = html.escape(item['title'])\n",
    "#     html_options.append('<option value={}>{}</option>'.format(title, title) )\n",
    "\n",
    "\n",
    "# html_select = '<select id=\"books\" name=\"books\" multiple>{}</select>'.format(str(html_options))\n",
    "# html_source = '<label for=\"books\">Choose 3 Books</label><br>'\n",
    "# html_button = '''\n",
    "# <br> <button name=\"order\" id=\"order\">Book Selection</button>\n",
    "# <p id=\"output\">\n",
    "# </p>\n",
    "# '''\n",
    "\n",
    "\n",
    "# ui_selected_books = widgets.HTML(\n",
    "#     value=ui_html_source,\n",
    "#     placeholder='Some HTML',\n",
    "#     description='Some HTML',\n",
    "# )\n",
    "\n",
    "\n",
    "# display( ui_selected_books  )"
   ]
  },
  {
   "cell_type": "code",
   "execution_count": null,
   "metadata": {},
   "outputs": [],
   "source": [
    "vars( ui_selected_books )"
   ]
  },
  {
   "cell_type": "code",
   "execution_count": null,
   "metadata": {},
   "outputs": [],
   "source": []
  }
 ],
 "metadata": {
  "kernelspec": {
   "display_name": "Python 3",
   "language": "python",
   "name": "python3"
  },
  "language_info": {
   "codemirror_mode": {
    "name": "ipython",
    "version": 3
   },
   "file_extension": ".py",
   "mimetype": "text/x-python",
   "name": "python",
   "nbconvert_exporter": "python",
   "pygments_lexer": "ipython3",
   "version": "3.7.3"
  }
 },
 "nbformat": 4,
 "nbformat_minor": 2
}
