{
 "cells": [
  {
   "cell_type": "code",
   "execution_count": 1,
   "metadata": {},
   "outputs": [],
   "source": [
    "from ipywidgets import IntProgress\n",
    "from IPython.display import display\n",
    "import time"
   ]
  },
  {
   "cell_type": "code",
   "execution_count": 2,
   "metadata": {},
   "outputs": [],
   "source": [
    "## Add in the Selenium framework to automate Chrome:\n",
    "\n",
    "import json\n",
    "import selenium\n",
    "import selenium.webdriver as webdriver\n"
   ]
  },
  {
   "cell_type": "code",
   "execution_count": 3,
   "metadata": {},
   "outputs": [],
   "source": [
    "## Create and add in our custom options:\n",
    "\n",
    "custom_options = webdriver.ChromeOptions()\n",
    "custom_options.add_argument('headless')"
   ]
  },
  {
   "cell_type": "code",
   "execution_count": 4,
   "metadata": {},
   "outputs": [],
   "source": [
    "## Edgecase:\n",
    "## Needed for Mybinder.org Google Cloud deployment when saving browser data to cache and forcing /tmp/\n",
    "\n",
    "custom_options.add_argument('--disable-dev-shm-usage')"
   ]
  },
  {
   "cell_type": "code",
   "execution_count": 5,
   "metadata": {},
   "outputs": [],
   "source": [
    "## Create the browser:\n",
    "\n",
    "browser = webdriver.Chrome(options=custom_options)"
   ]
  },
  {
   "cell_type": "code",
   "execution_count": 6,
   "metadata": {
    "scrolled": true
   },
   "outputs": [
    {
     "data": {
      "application/vnd.jupyter.widget-view+json": {
       "model_id": "44e1324c31ef483cb699d23f713afe4a",
       "version_major": 2,
       "version_minor": 0
      },
      "text/plain": [
       "IntSlider(value=2010, description='Year:', max=2019, min=1941)"
      ]
     },
     "metadata": {},
     "output_type": "display_data"
    },
    {
     "data": {
      "application/vnd.jupyter.widget-view+json": {
       "model_id": "f58066f971514784be2d40b8bd039fae",
       "version_major": 2,
       "version_minor": 0
      },
      "text/plain": [
       "IntText(value=2010, description='1941-2019:')"
      ]
     },
     "metadata": {},
     "output_type": "display_data"
    }
   ],
   "source": [
    "## Edgecase:\n",
    "## - NewYorkTimes Fiction Years are consistent beyond 1940.\n",
    "## - Non-Fiction starts around the year 2000.\n",
    "\n",
    "year_slider = widgets.IntSlider(\n",
    "    min=1941,\n",
    "    max=2019,\n",
    "    step=1,\n",
    "    value=2010,\n",
    "    description='Year:',\n",
    "    disabled=False,\n",
    "    orientation='horizontal',\n",
    ")\n",
    "\n",
    "year_textbox = widgets.IntText(\n",
    "    min=1941,\n",
    "    max=2019,\n",
    "    value=year_slider.value,\n",
    "    description='1941-2019:',\n",
    "    orientation='horizontal',\n",
    "    disabled=False\n",
    ")\n",
    "\n",
    "\n",
    "widgets.jslink((year_textbox, 'value'), (year_slider, 'value'))\n",
    "\n",
    "\n",
    "display(year_slider, year_textbox)\n"
   ]
  },
  {
   "cell_type": "code",
   "execution_count": 54,
   "metadata": {},
   "outputs": [],
   "source": [
    "## Create the New York Times Best Seller Historical List:\n",
    "\n",
    "nytimes_url = 'https://en.wikipedia.org/wiki/The_New_York_Times_Fiction_Best_Sellers_of_{}'.format(year_slider.value)"
   ]
  },
  {
   "cell_type": "code",
   "execution_count": 55,
   "metadata": {},
   "outputs": [
    {
     "name": "stdout",
     "output_type": "stream",
     "text": [
      "https://en.wikipedia.org/wiki/The_New_York_Times_Fiction_Best_Sellers_of_1971\n"
     ]
    }
   ],
   "source": [
    "print( nytimes_url )"
   ]
  },
  {
   "cell_type": "code",
   "execution_count": 56,
   "metadata": {},
   "outputs": [],
   "source": [
    "browser.get(nytimes_url)"
   ]
  },
  {
   "cell_type": "code",
   "execution_count": 57,
   "metadata": {},
   "outputs": [],
   "source": [
    "## Import the selection tools from Selenium:\n",
    "\n",
    "from selenium.webdriver.common.by import By "
   ]
  },
  {
   "cell_type": "code",
   "execution_count": 58,
   "metadata": {},
   "outputs": [],
   "source": [
    "## Table selection of row data via CSS_SELECTOR and child selection via nth-child()\n",
    "\n",
    "element_titles = browser.find_elements(By.CSS_SELECTOR, 'td:nth-last-child(3) ~ td:nth-child(2)' )\n",
    "element_authors = browser.find_elements(By.CSS_SELECTOR, 'td:nth-last-child(3) ~ td:nth-child(3)' )\n",
    "\n"
   ]
  },
  {
   "cell_type": "code",
   "execution_count": 59,
   "metadata": {},
   "outputs": [],
   "source": [
    "## Create JSON structure via a Python Dictionary\n",
    "\n",
    "unsorted_books = [{\n",
    "    \n",
    "    'title': title.get_attribute('innerText'),\n",
    "    'author': author.get_attribute('innerText')}\n",
    "    \n",
    "    for title, author in zip( element_titles,element_authors )\n",
    "]\n",
    "\n",
    "## Debug:\n",
    "# print( unsorted_books[0] )"
   ]
  },
  {
   "cell_type": "code",
   "execution_count": 60,
   "metadata": {},
   "outputs": [],
   "source": [
    "## Debug:\n",
    "## confirm that all results are the same length, and scraped properly\n",
    "\n",
    "# print('json:' , len(unsorted_books) )\n",
    "# print('tites:', len(element_titles) )\n",
    "# print('authors:', len(element_authors) )"
   ]
  },
  {
   "cell_type": "code",
   "execution_count": 61,
   "metadata": {},
   "outputs": [],
   "source": [
    "## Notes:\n",
    "\n",
    "## Map the json.dumps,\n",
    "## to encode the dictionaries as json objects which are immutable.\n",
    "\n",
    "## Set can then be used to produce an iterable of unique immutables.\n",
    "\n",
    "## Finally, we convert back to our dictionary representation using json.loads\n",
    "## Note that initially, one must sort by keys to arrange the dictionaries in a unique form.\n",
    "\n",
    "books = sorted(list(\n",
    "    map(\n",
    "        json.loads, set( map(json.dumps, unsorted_books) )\n",
    "    )\n",
    "),key=lambda key_value: key_value['title']) \n",
    "\n",
    "## Debug:\n",
    "## confirm that books are now sorted by alphanum via title, \n",
    "## print( books )"
   ]
  },
  {
   "cell_type": "code",
   "execution_count": 62,
   "metadata": {},
   "outputs": [],
   "source": [
    "## UI widget for book selection\n",
    "\n",
    "ui_list = []\n",
    "\n",
    "for item in books:\n",
    "    ui_list.append('{} : {}'.format(item['title'],item['author'])) \n",
    "\n",
    "ui_list.sort()"
   ]
  },
  {
   "cell_type": "code",
   "execution_count": 63,
   "metadata": {
    "scrolled": true
   },
   "outputs": [],
   "source": [
    "## Note:\n",
    "## Deprecated in favor of multi selection\n",
    "\n",
    "# ui_index = widgets.IntText(\n",
    "#     min=0,\n",
    "#     max=(len(ui_list)-1),\n",
    "#     value=0,\n",
    "#     step=1,\n",
    "#     description='index:',\n",
    "#     disabled=False\n",
    "# )\n",
    "\n",
    "\n",
    "# ui_dropdown = widgets.Dropdown(\n",
    "#     options=ui_list,\n",
    "#     description='books:',\n",
    "#     disabled=False,\n",
    "# )\n",
    "\n",
    "\n",
    "# widgets.jslink( (ui_index, 'value'), (ui_dropdown, 'index'))\n",
    "\n",
    "# display(ui_dropdown)\n",
    "\n",
    "## Debug:\n",
    "## confirm that book selection and ui widget are the correct output\n",
    "# print(books[ui_dropdown.index]['title'])\n",
    "# print(books[ui_dropdown.index]['author'])"
   ]
  },
  {
   "cell_type": "code",
   "execution_count": 64,
   "metadata": {
    "scrolled": false
   },
   "outputs": [
    {
     "data": {
      "application/vnd.jupyter.widget-view+json": {
       "model_id": "c2ea00cb88a743729cff7e10e11ce811",
       "version_major": 2,
       "version_minor": 0
      },
      "text/plain": [
       "SelectMultiple(description='Book Selection:', layout=Layout(width='80%'), options=('Love Story : Erich Segal',…"
      ]
     },
     "metadata": {},
     "output_type": "display_data"
    }
   ],
   "source": [
    "# ui_html = widgets.HTML\n",
    "\n",
    "ui_book_selection = widgets.SelectMultiple(\n",
    "    options=ui_list,\n",
    "    rows=5,\n",
    "    layout={'width': '80%'},\n",
    "    description='Book Selection:',\n",
    "    disabled=False\n",
    ")\n",
    "\n",
    "display( ui_book_selection )"
   ]
  },
  {
   "cell_type": "code",
   "execution_count": 65,
   "metadata": {},
   "outputs": [
    {
     "name": "stdout",
     "output_type": "stream",
     "text": [
      "['Love Story', 'The Exorcist', 'Wheels']\n"
     ]
    }
   ],
   "source": [
    "book_covers_to_fetch = []\n",
    "\n",
    "for item in range(len(ui_book_selection.index)):\n",
    "    selected = ui_book_selection.index[item]\n",
    "    book_covers_to_fetch.append(books[selected]['title'])\n",
    "#     book_covers_to_fetch.append(\n",
    "#         str(\n",
    "#             '{} {}'.format(books[selected]['title'],books[selected]['author'])\n",
    "#         )\n",
    "#     )\n",
    "\n",
    "\n",
    "print(book_covers_to_fetch)"
   ]
  },
  {
   "cell_type": "code",
   "execution_count": 66,
   "metadata": {},
   "outputs": [],
   "source": [
    "## Documentation:\n",
    "## Complex css selector, to avoid using loops and itterators with javascript or python\n",
    "## Example:\n",
    "## browser.find_element(By.CSS_SELECTOR, 'a[title*=\"{}\"]'.format( books[ui_dropdown.index]['title']) )"
   ]
  },
  {
   "cell_type": "code",
   "execution_count": 67,
   "metadata": {},
   "outputs": [],
   "source": [
    "## We will need to URL Encode the following search queries:\n",
    "## GoodReads.com\n",
    "## ListenNotes.com \n",
    " \n",
    "import urllib.parse"
   ]
  },
  {
   "cell_type": "code",
   "execution_count": 68,
   "metadata": {},
   "outputs": [
    {
     "name": "stdout",
     "output_type": "stream",
     "text": [
      "https://www.goodreads.com/search?utf8=%E2%9C%93&q=Erich%20Segal%20Love%20Story&search_type=books\n"
     ]
    }
   ],
   "source": [
    "## Edgecase:\n",
    "## Wikipedia is unreliable for finding consitent book covers!\n",
    "## Use GoodReads search urls to select the first result\n",
    "## Example: \n",
    "## https://www.goodreads.com/search?utf8=%E2%9C%93&q={TITLE}+{AUTHOR}&search_type=books\n",
    "\n",
    "book_queries = []\n",
    "\n",
    "for item in range(len(book_covers_to_fetch)):\n",
    "    selected = ui_book_selection.index[item]\n",
    "    \n",
    "    ## Edgecase:\n",
    "    ## Searching for book titles that are two letters, or common words\n",
    "    ## Must include the author name to generate results\n",
    "    \n",
    "    book_search_query = [\n",
    "        books[selected]['author'],\n",
    "        ' ',\n",
    "        books[selected]['title']\n",
    "    ]\n",
    "    \n",
    "    goodreads_url = [\n",
    "        'https://www.goodreads.com/search?utf8=%E2%9C%93&q=',\n",
    "        urllib.parse.quote(''.join(book_search_query)),\n",
    "        '&search_type=books'\n",
    "    ]\n",
    "    \n",
    "    book_queries.append(''.join(goodreads_url))\n",
    "\n",
    "        \n",
    "#     listnotes_url = 'https://www.goodreads.com/search?utf8=%E2%9C%93&q=',        \n",
    "#     book_queries.append(\n",
    "#         'https://www.goodreads.com/search?utf8=%E2%9C%93&q={}&search_type=books'.format(urllib.parse.quote(item))\n",
    "#     )\n",
    "\n",
    "print( book_queries[0] )"
   ]
  },
  {
   "cell_type": "code",
   "execution_count": 69,
   "metadata": {},
   "outputs": [],
   "source": [
    "from selenium.common.exceptions import TimeoutException\n",
    "from selenium.webdriver.support.ui import WebDriverWait\n",
    "from selenium.webdriver.support import expected_conditions as EC\n"
   ]
  },
  {
   "cell_type": "code",
   "execution_count": 70,
   "metadata": {},
   "outputs": [],
   "source": [
    "book_images = []\n",
    "book_covers = []\n",
    "book_urls = []\n",
    "url_match = None\n",
    "progress_bar = widgets.IntProgress(\n",
    "    min=0,\n",
    "    max=len(book_queries),\n",
    "    layout={'width': '100%'},\n",
    ") # instantiate the bar\n",
    "\n",
    "progress_count = 0"
   ]
  },
  {
   "cell_type": "code",
   "execution_count": 71,
   "metadata": {},
   "outputs": [
    {
     "data": {
      "application/vnd.jupyter.widget-view+json": {
       "model_id": "b34f1c6d2de44c7b8c94b5d37851317b",
       "version_major": 2,
       "version_minor": 0
      },
      "text/plain": [
       "IntProgress(value=0, layout=Layout(width='100%'), max=3)"
      ]
     },
     "metadata": {},
     "output_type": "display_data"
    },
    {
     "name": "stdout",
     "output_type": "stream",
     "text": [
      "now searching:  https://www.goodreads.com/search?utf8=%E2%9C%93&q=Erich%20Segal%20Love%20Story&search_type=books\n",
      "now searching:  https://www.goodreads.com/search?utf8=%E2%9C%93&q=William%20Peter%20Blatty%20The%20Exorcist&search_type=books\n",
      "now searching:  https://www.goodreads.com/search?utf8=%E2%9C%93&q=Arthur%20Hailey%20Wheels&search_type=books\n",
      "complete\n"
     ]
    }
   ],
   "source": [
    "display(progress_bar)\n",
    "\n",
    "## Loop throught each Book Query:\n",
    "for item in range(len(book_queries)):\n",
    "    progress_bar.value += 1\n",
    "    selected_item = ui_book_selection.index[item]\n",
    "    selected_title = book_covers_to_fetch[item]\n",
    "    # Debug:\n",
    "    print('now searching: ', book_queries[item] )\n",
    "    browser.get( book_queries[item] )\n",
    "    ## Edgecase:\n",
    "    ## Some titles are truncated and shortend when selecting the image text\n",
    "    ## Use the span selection text for more reliable results.\n",
    "    result_elements = browser.find_elements(By.TAG_NAME, 'tr')\n",
    "    \n",
    "    ## Edgecase:\n",
    "    ## Search the book results from the query for the EXACT match of the selected title\n",
    "    ## Select the correct result and scrape the URL\n",
    "    ## Test currect selected title against found table row results from seach query\n",
    "    for result in range(len(result_elements)):\n",
    "        title_result = result_elements[result].get_attribute('innerText').splitlines()[0].strip()\n",
    "        ## Debug:\n",
    "        # print(title_result)\n",
    "        if len(title_result) is len(selected_title):\n",
    "            ## Debug:\n",
    "            # print('match: ', result)\n",
    "            url_match = result_elements[result].find_element(By.TAG_NAME, 'a').get_attribute('href')\n",
    "        else:\n",
    "        ## Edgecase:\n",
    "        ## There are books that truncate or add in extra sub titles to the match\n",
    "        ## In that event, use a CSS_SELECTOR regex for nearest match.\n",
    "            url_match = browser.find_element(By.CSS_SELECTOR, 'a[title*=\"{}\"]'.format( selected_title ) ).get_attribute('href')\n",
    "\n",
    "        \n",
    "            \n",
    "\n",
    "    ## Debug:\n",
    "    # print('url_match: ', url_match )\n",
    "    browser.get(url_match)\n",
    "    cover_image = browser.find_element(By.CSS_SELECTOR, '.editionCover > img').get_attribute('src')\n",
    "    book_covers.append( cover_image )\n",
    "    progress_count += 1\n",
    "\n",
    "print('complete')"
   ]
  },
  {
   "cell_type": "code",
   "execution_count": 72,
   "metadata": {},
   "outputs": [
    {
     "data": {
      "application/vnd.jupyter.widget-view+json": {
       "model_id": "2eb1c649a1e94b23964608613818b893",
       "version_major": 2,
       "version_minor": 0
      },
      "text/plain": [
       "HTML(value='[\\'<img sytle=\"display: inline-block\" width=\"150\" src=\"https://i.gr-assets.com/images/S/compressed…"
      ]
     },
     "metadata": {},
     "output_type": "display_data"
    }
   ],
   "source": [
    "html_data = []\n",
    "for image in range(len(book_covers)):\n",
    "     html_data.append('<img sytle=\"display: inline-block\" width=\"150\" src=\"{}\">'\n",
    "        .format( book_covers[image] )\n",
    "    )\n",
    "\n",
    "\n",
    "ui_html = widgets.HTML(\n",
    "    layout={'width': '100%'},\n",
    "    value = str(html_data)\n",
    ")\n",
    "\n",
    "display( ui_html )"
   ]
  },
  {
   "cell_type": "code",
   "execution_count": null,
   "metadata": {
    "scrolled": true
   },
   "outputs": [],
   "source": []
  },
  {
   "cell_type": "code",
   "execution_count": 49,
   "metadata": {},
   "outputs": [],
   "source": [
    "\n",
    "\n",
    "# for item in range(len(ui_book_selection.index)):\n",
    "#     selected = ui_book_selection.index[item]\n",
    "#     print(books[selected]['title'], ' : ' ,books[selected]['author'])\n",
    "\n",
    "# for item in book_covers_to_fetch:\n",
    "#     book_queries.append(\n",
    "#         'https://www.goodreads.com/search?utf8=%E2%9C%93&q={}&search_type=books'.format(urllib.parse.quote(item))\n",
    "#     )\n",
    "\n",
    "# print( book_queries )"
   ]
  },
  {
   "cell_type": "code",
   "execution_count": 75,
   "metadata": {},
   "outputs": [],
   "source": [
    "podcast_images = []\n",
    "podcast_urls = []\n",
    "sticher_queries = []\n",
    "listennotes_queries = []\n",
    "\n",
    "## Run the code to create the podcast search query URLS:\n",
    "\n",
    "for item in range(len(ui_book_selection.index)):\n",
    "    selected = ui_book_selection.index[item]\n",
    "    selected_book = [ books[selected]['title'],' ',books[selected]['author'] ]\n",
    "    \n",
    "    stitcher_query_url = [\n",
    "        'https://www.stitcher.com/search?q=',\n",
    "        urllib.parse.quote(''.join(selected_book)),\n",
    "        '#episodes'\n",
    "    ]\n",
    "    \n",
    "    listennotes_url = [\n",
    "        'https://www.listennotes.com/search/?q=',\n",
    "        urllib.parse.quote(''.join(selected_book)),\n",
    "        '&sort_by_date=0&scope=episode&offset=0&language=Any%20language&len_min=0'\n",
    "    ]\n",
    "\n",
    "    sticher_queries.append(''.join(stitcher_query_url))\n",
    "    listennotes_queries.append(''.join(listennotes_url))\n",
    "    \n",
    "#     selected_book = [ str(books[selected]['title']), ' ', str(books[selected]['author'])]\n",
    "#     selected_query = urllib.parse.quote(str(selected_book))\n",
    "#     book_query_url = ['https://www.listennotes.com/search/?q=', selected_query, '&sort_by_date=0&scope=episode&offset=0&language=Any%20language&len_min=0']\n",
    "#     podcast_queries.append(str(book_query_url))"
   ]
  },
  {
   "cell_type": "code",
   "execution_count": 80,
   "metadata": {
    "scrolled": true
   },
   "outputs": [
    {
     "name": "stdout",
     "output_type": "stream",
     "text": [
      "https://www.listennotes.com/search/?q=Love%20Story%20Erich%20Segal&sort_by_date=0&scope=episode&offset=0&language=Any%20language&len_min=0\n",
      "https://www.stitcher.com/search?q=Love%20Story%20Erich%20Segal#episodes\n",
      "https://www.listennotes.com/search/?q=The%20Exorcist%20William%20Peter%20Blatty&sort_by_date=0&scope=episode&offset=0&language=Any%20language&len_min=0\n",
      "https://www.stitcher.com/search?q=The%20Exorcist%20William%20Peter%20Blatty#episodes\n",
      "https://www.listennotes.com/search/?q=Wheels%20Arthur%20Hailey&sort_by_date=0&scope=episode&offset=0&language=Any%20language&len_min=0\n",
      "https://www.stitcher.com/search?q=Wheels%20Arthur%20Hailey#episodes\n"
     ]
    }
   ],
   "source": [
    "## Edgecase:\n",
    "## There are times when there will be ZERO results\n",
    "## Example:\n",
    "## https://www.stitcher.com/search?q=Random%20Harvest%20James%20Hilton#episodes\n",
    "## Possible Solution:\n",
    "## More work, pulling in both Sticher and ListenNotes results, take the one that has an option\n",
    "\n",
    "for url in range(len(sticher_queries)):\n",
    "    print(listennotes_queries[url])\n",
    "    print(sticher_queries[url])\n",
    "\n",
    "\n"
   ]
  },
  {
   "cell_type": "code",
   "execution_count": null,
   "metadata": {},
   "outputs": [],
   "source": [
    "## Notes:\n",
    "\n",
    "\n",
    "# First List Element:  ul > li > a > div[class^=\"play\"].click()\n",
    "\n",
    "# https://www.stitcher.com/podcast/the-joe-rogan-experience/e/46639950?autoplay=false\n",
    "# document.getElementsByTagName('audio')[0].getAttribute('src')\n",
    "\n",
    "\n"
   ]
  },
  {
   "cell_type": "code",
   "execution_count": null,
   "metadata": {},
   "outputs": [],
   "source": []
  },
  {
   "cell_type": "code",
   "execution_count": null,
   "metadata": {},
   "outputs": [],
   "source": []
  },
  {
   "cell_type": "code",
   "execution_count": null,
   "metadata": {},
   "outputs": [],
   "source": [
    "# for item in range(len(book_queries)):\n",
    "#     progress_bar.value += 1\n",
    "#     # selected_item = ui_book_selection.index[item]\n",
    "#     selected_title = book_covers_to_fetch[item]\n",
    "#     browser.get( book_queries[item] )\n",
    "#     ## Edgecase:\n",
    "#     ## Some titles are truncated and shortend when selecting the image text\n",
    "#     ## Use the span selection text for more reliable results.\n",
    "#     result_elements = browser.find_elements(By.TAG_NAME, 'tr')\n",
    "    \n",
    "#     ## Edgecase:\n",
    "#     ## Search the book results from the query for the EXACT match of the selected title\n",
    "#     ## Select the correct result and scrape the URL\n",
    "#     ## Test currect selected title against found table row results from seach query\n",
    "#     for result in range(len(result_elements)):\n",
    "#         title_result = result_elements[result].get_attribute('innerText').splitlines()[0].strip()\n",
    "#         ## Debug:\n",
    "#         # print(title_result)\n",
    "#         if len(title_result) is len(selected_title):\n",
    "#             ## Debug:\n",
    "#             # print('match: ', result)\n",
    "#             url_match = result_elements[result].find_element(By.TAG_NAME, 'a').get_attribute('href')\n",
    "#         else:\n",
    "#         ## Edgecase:\n",
    "#         ## There are books that truncate or add in extra sub titles to the match\n",
    "#         ## In that event, use a CSS_SELECTOR regex for nearest match.\n",
    "#             url_match = browser.find_element(By.CSS_SELECTOR, 'a[title*=\"{}\"]'.format( selected_title ) ).get_attribute('href')\n",
    "\n",
    "#     ## Debug:\n",
    "#     # print('url_match: ', url_match )\n",
    "#     browser.get(url_match)\n",
    "#     cover_image = browser.find_element(By.CSS_SELECTOR, '.editionCover > img').get_attribute('src')\n",
    "#     book_covers.append( cover_image )\n",
    "#     progress_count += 1\n",
    "\n",
    "# print('complete')"
   ]
  }
 ],
 "metadata": {
  "kernelspec": {
   "display_name": "Python 3",
   "language": "python",
   "name": "python3"
  },
  "language_info": {
   "codemirror_mode": {
    "name": "ipython",
    "version": 3
   },
   "file_extension": ".py",
   "mimetype": "text/x-python",
   "name": "python",
   "nbconvert_exporter": "python",
   "pygments_lexer": "ipython3",
   "version": "3.7.3"
  }
 },
 "nbformat": 4,
 "nbformat_minor": 2
}
