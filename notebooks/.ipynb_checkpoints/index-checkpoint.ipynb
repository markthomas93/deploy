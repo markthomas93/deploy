{
 "cells": [
  {
   "cell_type": "markdown",
   "metadata": {
    "deletable": false,
    "editable": false,
    "run_control": {
     "frozen": true
    }
   },
   "source": [
    "# How To  Data Scrape With Chrome Using Python:"
   ]
  },
  {
   "cell_type": "markdown",
   "metadata": {
    "deletable": false,
    "editable": false,
    "run_control": {
     "frozen": true
    }
   },
   "source": [
    "## Add the neccesary frameworks into the Python:\n",
    "\n",
    "1. `import selenium`\n",
    "1. `import selenium.webdriver as webdriver`"
   ]
  },
  {
   "cell_type": "code",
   "execution_count": null,
   "metadata": {},
   "outputs": [],
   "source": [
    "## Add in the selenium framework to automate chrome:\n",
    "\n"
   ]
  },
  {
   "cell_type": "markdown",
   "metadata": {
    "deletable": false,
    "editable": false,
    "run_control": {
     "frozen": true
    }
   },
   "source": [
    "## Allow Chrome to run in `headless` mode by creating custom options:\n",
    "\n",
    "1. `custom_options = webdriver.ChromeOptions()`\n",
    "1. `custom_options.add_argument('headless')`"
   ]
  },
  {
   "cell_type": "code",
   "execution_count": null,
   "metadata": {},
   "outputs": [],
   "source": [
    "## Create and add in our custom options:\n",
    "\n"
   ]
  },
  {
   "cell_type": "markdown",
   "metadata": {
    "deletable": false,
    "editable": false,
    "run_control": {
     "frozen": true
    }
   },
   "source": [
    "## Declare an instance of our headless Chrome browser\n",
    "\n",
    "1. `browser = webdriver.Chrome(options=custom_options)`"
   ]
  },
  {
   "cell_type": "code",
   "execution_count": null,
   "metadata": {},
   "outputs": [],
   "source": [
    "browser = webdriver.Chrome(options=custom_options)"
   ]
  },
  {
   "cell_type": "markdown",
   "metadata": {
    "deletable": false,
    "editable": false,
    "run_control": {
     "frozen": true
    }
   },
   "source": [
    "## Let's get a webpage loaded!\n",
    "\n",
    "1. `browser.get('https://ipinfo.io')`"
   ]
  },
  {
   "cell_type": "code",
   "execution_count": null,
   "metadata": {},
   "outputs": [],
   "source": [
    "## Enter a webpage to load\n",
    "\n"
   ]
  },
  {
   "cell_type": "markdown",
   "metadata": {
    "deletable": false,
    "editable": false,
    "run_control": {
     "frozen": true
    }
   },
   "source": [
    "## A few ways to interact with the loaded web page:\n",
    "\n",
    "### Interact with the `html` of the web page:\n",
    "  - `html( browser.page_source )`\n",
    "  \n",
    "### View an `image` of the web page:  \n",
    "  - `image( browser.get_screenshot_as_png() )`\n",
    "  \n",
    "### Browse the source code of the `html ` web page:  \n",
    "  - `display( browser.page_source )`  "
   ]
  },
  {
   "cell_type": "code",
   "execution_count": null,
   "metadata": {},
   "outputs": [],
   "source": [
    "## Interact with the loaded webpage:\n"
   ]
  },
  {
   "cell_type": "markdown",
   "metadata": {},
   "source": [
    "## Lets select a specific element from the web page:\n"
   ]
  },
  {
   "cell_type": "markdown",
   "metadata": {
    "deletable": false,
    "editable": false,
    "run_control": {
     "frozen": true
    }
   },
   "source": [
    "## Import the `Selenium` power tools for selection\n",
    "\n",
    " - `from selenium.webdriver.common.by import By`\n"
   ]
  },
  {
   "cell_type": "code",
   "execution_count": null,
   "metadata": {},
   "outputs": [],
   "source": [
    "## Import the Selenium tools for selection:\n",
    "\n"
   ]
  },
  {
   "cell_type": "code",
   "execution_count": 2,
   "metadata": {},
   "outputs": [],
   "source": [
    "## Lets find a DOM element by selecting it's class. Example: `a-carousel-row-inner`\n",
    "\n",
    "html_element = ''"
   ]
  },
  {
   "cell_type": "code",
   "execution_count": null,
   "metadata": {},
   "outputs": [],
   "source": [
    "## Now lets view an image of just the selected image\n",
    "\n",
    "image( html_element.screenshot_as_png )"
   ]
  },
  {
   "cell_type": "code",
   "execution_count": null,
   "metadata": {},
   "outputs": [],
   "source": [
    "# signup_button = browser.find_element(By.CSS_SELECTOR, 'a[href^=\"/signup\"]')\n",
    "# signup_button = browser.find_element(By.TAG_NAME, 'footer')\n"
   ]
  },
  {
   "cell_type": "code",
   "execution_count": null,
   "metadata": {},
   "outputs": [],
   "source": [
    "image( browser.find_element(By.ID, 'gw-card-layout').screenshot_as_png )"
   ]
  },
  {
   "cell_type": "markdown",
   "metadata": {
    "deletable": false,
    "editable": false,
    "run_control": {
     "frozen": true
    }
   },
   "source": [
    "## That's cool, but can we remove the scrollbars?\n",
    "\n",
    "\n",
    "### Absolultly! - Lets add in a custom option to our browser to hide the scrollbars:\n",
    "\n",
    " - `custom_options.add_argument('--hide-scrollbars')`"
   ]
  },
  {
   "cell_type": "code",
   "execution_count": null,
   "metadata": {},
   "outputs": [],
   "source": [
    "## Add in your custom option to hide scrollbars:\n",
    "\n",
    "custom_options.add_argument('--hide-scrollbars')"
   ]
  },
  {
   "cell_type": "code",
   "execution_count": null,
   "metadata": {
    "deletable": false,
    "editable": false
   },
   "outputs": [],
   "source": [
    "## We have to close and create the browser, because we are adding in new options.\n",
    "\n",
    "browser.close()\n",
    "browser = webdriver.Chrome(options=custom_options)\n",
    "browser.get('https://www.amazon.com/')"
   ]
  },
  {
   "cell_type": "code",
   "execution_count": null,
   "metadata": {},
   "outputs": [],
   "source": [
    "# image( browser.find_element(By.CLASS_NAME, 'a-cardui-header').screenshot_as_png )\n",
    "image( browser.find_element(By.CLASS_NAME, 'a-image-container').screenshot_as_png )"
   ]
  },
  {
   "cell_type": "code",
   "execution_count": null,
   "metadata": {},
   "outputs": [],
   "source": []
  }
 ],
 "metadata": {
  "kernelspec": {
   "display_name": "Python 3",
   "language": "python",
   "name": "python3"
  },
  "language_info": {
   "codemirror_mode": {
    "name": "ipython",
    "version": 3
   },
   "file_extension": ".py",
   "mimetype": "text/x-python",
   "name": "python",
   "nbconvert_exporter": "python",
   "pygments_lexer": "ipython3",
   "version": "3.7.3"
  }
 },
 "nbformat": 4,
 "nbformat_minor": 2
}
