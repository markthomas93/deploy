{
 "cells": [
  {
   "cell_type": "code",
   "execution_count": 457,
   "metadata": {},
   "outputs": [],
   "source": [
    "## Add in the Selenium framework to automate Chrome:\n",
    "\n",
    "import selenium\n",
    "import selenium.webdriver as webdriver\n"
   ]
  },
  {
   "cell_type": "code",
   "execution_count": 458,
   "metadata": {},
   "outputs": [],
   "source": [
    "## Create and add in our custom options:\n",
    "\n",
    "custom_options = webdriver.ChromeOptions()\n",
    "custom_options.add_argument('headless')"
   ]
  },
  {
   "cell_type": "code",
   "execution_count": 459,
   "metadata": {},
   "outputs": [],
   "source": [
    "## Edgecase:\n",
    "## Needed for Mybinder.org Google Cloud deployment when saving browser data to cache and forcing /tmp/\n",
    "\n",
    "custom_options.add_argument('--disable-dev-shm-usage')"
   ]
  },
  {
   "cell_type": "code",
   "execution_count": 460,
   "metadata": {},
   "outputs": [],
   "source": [
    "## Create the browser:\n",
    "\n",
    "browser = webdriver.Chrome(options=custom_options)"
   ]
  },
  {
   "cell_type": "code",
   "execution_count": 461,
   "metadata": {
    "scrolled": true
   },
   "outputs": [
    {
     "data": {
      "application/vnd.jupyter.widget-view+json": {
       "model_id": "a8adebd6c6b449f8a81baabbd9af12a6",
       "version_major": 2,
       "version_minor": 0
      },
      "text/plain": [
       "IntSlider(value=2010, description='Year:', max=2019, min=1941)"
      ]
     },
     "metadata": {},
     "output_type": "display_data"
    },
    {
     "data": {
      "application/vnd.jupyter.widget-view+json": {
       "model_id": "d8038b96db2e4e35ae861606d0d9c831",
       "version_major": 2,
       "version_minor": 0
      },
      "text/plain": [
       "IntText(value=2010, description='1941-2019:')"
      ]
     },
     "metadata": {},
     "output_type": "display_data"
    }
   ],
   "source": [
    "## Edgecase:\n",
    "## - NewYorkTimes Fiction Years are consistent beyond 1940.\n",
    "## - Non-Fiction starts around the year 2000.\n",
    "\n",
    "year_slider = widgets.IntSlider(\n",
    "    min=1941,\n",
    "    max=2019,\n",
    "    step=1,\n",
    "    value=2010,\n",
    "    description='Year:',\n",
    "    disabled=False,\n",
    "    orientation='horizontal',\n",
    ")\n",
    "\n",
    "year_textbox = widgets.IntText(\n",
    "    min=1941,\n",
    "    max=2019,\n",
    "    value=year_slider.value,\n",
    "    description='1941-2019:',\n",
    "    orientation='horizontal',\n",
    "    disabled=False\n",
    ")\n",
    "\n",
    "\n",
    "widgets.jslink((year_textbox, 'value'), (year_slider, 'value'))\n",
    "\n",
    "\n",
    "display(year_slider, year_textbox)\n"
   ]
  },
  {
   "cell_type": "code",
   "execution_count": 516,
   "metadata": {},
   "outputs": [],
   "source": [
    "## Create the New York Times Best Seller Historical List:\n",
    "\n",
    "nytimes_url = 'https://en.wikipedia.org/wiki/The_New_York_Times_Fiction_Best_Sellers_of_{}'.format(year_slider.value)"
   ]
  },
  {
   "cell_type": "code",
   "execution_count": 517,
   "metadata": {},
   "outputs": [
    {
     "name": "stdout",
     "output_type": "stream",
     "text": [
      "https://en.wikipedia.org/wiki/The_New_York_Times_Fiction_Best_Sellers_of_1986\n"
     ]
    }
   ],
   "source": [
    "print( nytimes_url )"
   ]
  },
  {
   "cell_type": "code",
   "execution_count": 518,
   "metadata": {},
   "outputs": [],
   "source": [
    "browser.get(nytimes_url)"
   ]
  },
  {
   "cell_type": "code",
   "execution_count": 519,
   "metadata": {
    "scrolled": true
   },
   "outputs": [],
   "source": [
    "## Confirm there are no CAPTCH with a visual screenshot\n",
    "\n",
    "# image( browser.get_screenshot_as_png() )"
   ]
  },
  {
   "cell_type": "code",
   "execution_count": 520,
   "metadata": {},
   "outputs": [],
   "source": [
    "## Import the selection tools from Selenium:\n",
    "\n",
    "from selenium.webdriver.common.by import By "
   ]
  },
  {
   "cell_type": "code",
   "execution_count": 521,
   "metadata": {},
   "outputs": [],
   "source": [
    "\n",
    "element_titles = browser.find_elements(By.CSS_SELECTOR, 'td:nth-last-child(3) ~ td:nth-child(2)' )\n",
    "element_authors = browser.find_elements(By.CSS_SELECTOR, 'td:nth-last-child(3) ~ td:nth-child(3)' )\n",
    "element_title_urls = browser.find_elements(By.CSS_SELECTOR, 'td:nth-last-child(3) ~ td:nth-child(2) > i > a' )\n"
   ]
  },
  {
   "cell_type": "code",
   "execution_count": null,
   "metadata": {},
   "outputs": [],
   "source": []
  },
  {
   "cell_type": "code",
   "execution_count": null,
   "metadata": {},
   "outputs": [],
   "source": []
  },
  {
   "cell_type": "code",
   "execution_count": 522,
   "metadata": {},
   "outputs": [],
   "source": [
    "## Create dictionary aka json \n",
    "unsorted_books = [{'title': title.get_attribute('innerText'), 'author': author.get_attribute('innerText')} for title, author in zip(element_titles,element_authors)]"
   ]
  },
  {
   "cell_type": "code",
   "execution_count": 523,
   "metadata": {},
   "outputs": [],
   "source": [
    "## chosen for readablility and \n",
    "# books = []\n",
    "# for item in unsorted_books:\n",
    "#     if item not in clean:\n",
    "#         books.append(item)"
   ]
  },
  {
   "cell_type": "code",
   "execution_count": 524,
   "metadata": {},
   "outputs": [],
   "source": [
    "## mapping the json.dumps\n",
    "## to encode the dictionaries as json objects\n",
    "## which are immutable.\n",
    "## Set can then be used to produce an iterable of unique immutables.\n",
    "## Finally, we convert back to our dictionary representation using json.loads\n",
    "## Note that initially, one must sort by keys to arrange the dictionaries in a unique form.\n",
    "## This is valid for Python 3.6+ since dictionaries are ordered by default.\n",
    "\n",
    "books = list(\n",
    "    map(\n",
    "        json.loads, set( map(json.dumps, unsorted_books) )\n",
    "    )\n",
    ")"
   ]
  },
  {
   "cell_type": "code",
   "execution_count": 525,
   "metadata": {},
   "outputs": [],
   "source": [
    "# titles = []\n",
    "# authors = []\n",
    "# book_list = []\n",
    "\n",
    "# for item in books:\n",
    "#     book_list.append('{} : {}'.format(item['title'],item['author'])) \n",
    "#     titles.append(item['title'])\n",
    "#     authors.append(item['author'])\n",
    "\n",
    "# book_list.sort()"
   ]
  },
  {
   "cell_type": "code",
   "execution_count": 526,
   "metadata": {},
   "outputs": [],
   "source": [
    "book_urls = []\n",
    "\n",
    "for item in element_title_urls:\n",
    "    book_urls.append(item.get_attribute('href'))\n",
    "\n",
    "book_urls.sort()"
   ]
  },
  {
   "cell_type": "code",
   "execution_count": 527,
   "metadata": {
    "scrolled": true
   },
   "outputs": [
    {
     "data": {
      "application/vnd.jupyter.widget-view+json": {
       "model_id": "ebef7f564b2c4ea6918857c6aabf104b",
       "version_major": 2,
       "version_minor": 0
      },
      "text/plain": [
       "Dropdown(description='books:', options=('A Perfect Spy : John le Carré', \"I'll Take Manhattan : Judith Krantz\"…"
      ]
     },
     "metadata": {},
     "output_type": "display_data"
    }
   ],
   "source": [
    "book_index = widgets.IntText(\n",
    "    min=0,\n",
    "    max=(len(book_list)-1),\n",
    "    value=0,\n",
    "    step=1,\n",
    "    description='index:',\n",
    "    disabled=False\n",
    ")\n",
    "\n",
    "\n",
    "\n",
    "books_dropdown = widgets.Dropdown(\n",
    "    options=book_list,\n",
    "    description='books:',\n",
    "    disabled=False,\n",
    ")\n",
    "\n",
    "books_urllink = widgets.HTML(\n",
    "    value='<a href={}>{}</a>'.format(book_urls[book_index.value],books_dropdown.value)\n",
    ")\n",
    "\n",
    "widgets.jslink( (book_index, 'value'), (books_dropdown, 'index'))\n",
    "# widgets.jslink( (books_urllink, 'value'), (books_dropdown, 'index') )\n",
    "\n",
    "display(books_dropdown)"
   ]
  },
  {
   "cell_type": "code",
   "execution_count": 606,
   "metadata": {},
   "outputs": [
    {
     "name": "stdout",
     "output_type": "stream",
     "text": [
      "Whirlwind : James Clavell\n",
      "https://en.wikipedia.org/wiki/Whirlwind_(novel)\n"
     ]
    }
   ],
   "source": [
    "print( book_list[book_index.value] )\n",
    "\n",
    "print( book_urls[book_index.value] )"
   ]
  },
  {
   "cell_type": "code",
   "execution_count": 607,
   "metadata": {},
   "outputs": [],
   "source": [
    "from selenium.webdriver.common.action_chains import ActionChains"
   ]
  },
  {
   "cell_type": "code",
   "execution_count": 608,
   "metadata": {},
   "outputs": [],
   "source": [
    "# hover_element = ActionChains(browser).move_to_element(element)\n",
    "#     hov.perform()\n",
    "\n",
    "# for\n",
    "# print( element_title_urls[0].get_attribute('href') )\n",
    "\n",
    "# for i in range(len(element_title_urls)):\n",
    "#     if str(element_title_urls[i].get_attribute('href')) is book_urls[book_index.value]:\n",
    "#         print(i)\n",
    "\n",
    "# if element_index.get_attribute('href') is book_urls[book_index.value]:\n",
    "# if(element_index.get_attribute('href') is book_urls[book_index.value]):\n"
   ]
  },
  {
   "cell_type": "code",
   "execution_count": 609,
   "metadata": {},
   "outputs": [],
   "source": [
    "\n",
    "# element_title_urls = browser.find_elements(By.CSS_SELECTOR, 'td:nth-last-child(3) ~ td:nth-child(2) > i > a' )\n",
    "\n",
    "title_url = book_urls[book_index.value].replace('https://en.wikipedia.org','')\n",
    "element_url = browser.find_element(By.CSS_SELECTOR, 'a[href*=\"{}\"]'.format(title_url))\n",
    "\n"
   ]
  },
  {
   "cell_type": "code",
   "execution_count": 610,
   "metadata": {},
   "outputs": [],
   "source": [
    "# browser.find_elements(By.CLASS_NAME, 'mwe-popups-container')\n",
    "# documentation: https://seleniumhq.github.io/selenium/docs/api/py/webdriver/selenium.webdriver.common.action_chains.html\n",
    "\n",
    "from selenium.webdriver.common.action_chains import ActionChains\n",
    "\n",
    "actions = ActionChains(browser)\n",
    "\n",
    "hover_over_element = actions.move_to_element(element_url)\n",
    "browser.implicitly_wait(1)\n",
    "hover_over_element.perform()\n",
    "\n",
    "\n",
    "\n"
   ]
  },
  {
   "cell_type": "code",
   "execution_count": 611,
   "metadata": {},
   "outputs": [],
   "source": [
    "## Debug:\n",
    "## image( browser.get_screenshot_as_png() )"
   ]
  },
  {
   "cell_type": "code",
   "execution_count": 612,
   "metadata": {},
   "outputs": [
    {
     "data": {
      "image/jpeg": "[encoded data removed]",
      "text/plain": [
       "<IPython.core.display.Image object>"
      ]
     },
     "execution_count": 612,
     "metadata": {},
     "output_type": "execute_result"
    }
   ],
   "source": [
    "element_bookcover = browser.find_element(By.CSS_SELECTOR, '.mwe-popups-is-tall image')\n",
    "image( element_bookcover.get_attribute('href') )"
   ]
  },
  {
   "cell_type": "code",
   "execution_count": null,
   "metadata": {},
   "outputs": [],
   "source": []
  },
  {
   "cell_type": "code",
   "execution_count": null,
   "metadata": {},
   "outputs": [],
   "source": []
  },
  {
   "cell_type": "code",
   "execution_count": null,
   "metadata": {},
   "outputs": [],
   "source": []
  },
  {
   "cell_type": "code",
   "execution_count": null,
   "metadata": {},
   "outputs": [],
   "source": []
  },
  {
   "cell_type": "code",
   "execution_count": null,
   "metadata": {},
   "outputs": [],
   "source": []
  },
  {
   "cell_type": "code",
   "execution_count": null,
   "metadata": {},
   "outputs": [],
   "source": []
  },
  {
   "cell_type": "code",
   "execution_count": null,
   "metadata": {},
   "outputs": [],
   "source": []
  }
 ],
 "metadata": {
  "kernelspec": {
   "display_name": "Python 3",
   "language": "python",
   "name": "python3"
  },
  "language_info": {
   "codemirror_mode": {
    "name": "ipython",
    "version": 3
   },
   "file_extension": ".py",
   "mimetype": "text/x-python",
   "name": "python",
   "nbconvert_exporter": "python",
   "pygments_lexer": "ipython3",
   "version": "3.7.3"
  }
 },
 "nbformat": 4,
 "nbformat_minor": 2
}
