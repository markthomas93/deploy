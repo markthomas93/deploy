{
 "cells": [
  {
   "cell_type": "markdown",
   "metadata": {
    "deletable": false,
    "editable": false,
    "run_control": {
     "frozen": true
    }
   },
   "source": [
    "# Practical Programming: &#128218; &#127822;\n",
    "### Code can be complicated - Teaching code doesn't have to be!\n",
    "\n",
    "> By teaching __practical programming__, we can help other budding developers build an `MVP` by guiding them to become a `MVP` _(Minimum Viable Programmer)._ \n",
    "\n",
    "This workshop will cover the basics of the [`Selenium`](https://www.seleniumhq.org/) framework and exposure using it with Python &#128013;.\n",
    "\n",
    "I hope that this workshop helps spark your _curiosity_ to _create_ something and become _empowered_ to take ownership and inspire others to build with the tools and data we all have access to.\n",
    "\n",
    "These concepts can be applied to a variety of languages and platforms (`C#`,`Ruby`,`Javascript`,`PHP`).\n",
    "\n",
    "Real-world usage of the code can be repurposed to help with browser automation, testing or data scraping."
   ]
  },
  {
   "cell_type": "markdown",
   "metadata": {
    "deletable": false,
    "editable": false,
    "run_control": {
     "frozen": true
    }
   },
   "source": [
    "# What will you walk away with? &#129300;\n",
    "\n",
    "## Treating the internet like a tool to be remixed, reused, and repurposed: &#127760; &#128377;\n",
    "\n",
    "\n",
    "### The basics of the `Selenium` framework: &#128013; &#128187;\n",
    " > A quick overview of how to get up and running with automating Chrome.\n",
    "\n",
    "### A book recommendation: &#128214; &#128217;\n",
    " > _Data scraping a series of books that you may have missed or not known about._\n",
    "\n",
    "### A podcast review of the book: &#127911; &#127908;\n",
    " > _Why judge a book by it's cover when you can listen to it instead?_\n"
   ]
  },
  {
   "cell_type": "markdown",
   "metadata": {
    "deletable": false,
    "editable": false,
    "run_control": {
     "frozen": true
    }
   },
   "source": [
    "---"
   ]
  },
  {
   "cell_type": "markdown",
   "metadata": {
    "deletable": false,
    "editable": false,
    "run_control": {
     "frozen": true
    }
   },
   "source": [
    "# How To:  Getting Started With Selenium And Chrome In Python:\n",
    " > ### The basics of the `Selenium` framework: &#128013; &#128187;"
   ]
  },
  {
   "cell_type": "markdown",
   "metadata": {
    "deletable": false,
    "editable": false,
    "run_control": {
     "frozen": true
    }
   },
   "source": [
    "## Add the necessary frameworks into Python:\n",
    "\n",
    "1. `import selenium`\n",
    "1. `import selenium.webdriver as webdriver`"
   ]
  },
  {
   "cell_type": "code",
   "execution_count": null,
   "metadata": {},
   "outputs": [],
   "source": [
    "## Add in the Selenium framework to automate Chrome:\n",
    "\n"
   ]
  },
  {
   "cell_type": "markdown",
   "metadata": {
    "deletable": false,
    "editable": false,
    "run_control": {
     "frozen": true
    }
   },
   "source": [
    "## Allow Chrome to run in `headless` mode by creating custom options:\n",
    "\n",
    "1. `custom_options = webdriver.ChromeOptions()`\n",
    "1. `custom_options.add_argument('headless')`"
   ]
  },
  {
   "cell_type": "code",
   "execution_count": null,
   "metadata": {},
   "outputs": [],
   "source": [
    "## Create and add in our custom options:\n",
    "\n"
   ]
  },
  {
   "cell_type": "code",
   "execution_count": null,
   "metadata": {
    "deletable": false,
    "editable": false
   },
   "outputs": [],
   "source": [
    "## Edgecase:\n",
    "## Needed for Mybinder.org Google Cloud deployment when saving browser data to cache and forcing /tmp/\n",
    "\n",
    "custom_options.add_argument('--disable-dev-shm-usage')"
   ]
  },
  {
   "cell_type": "markdown",
   "metadata": {
    "deletable": false,
    "editable": false,
    "run_control": {
     "frozen": true
    }
   },
   "source": [
    "## Declare an instance of our headless Chrome browser\n",
    "\n",
    "1. `browser = webdriver.Chrome(options=custom_options)`"
   ]
  },
  {
   "cell_type": "code",
   "execution_count": null,
   "metadata": {},
   "outputs": [],
   "source": [
    "## Create the browser:\n",
    "\n"
   ]
  },
  {
   "cell_type": "markdown",
   "metadata": {
    "deletable": false,
    "editable": false,
    "run_control": {
     "frozen": true
    }
   },
   "source": [
    "## Let's get a webpage loaded!\n",
    "\n",
    "1. `browser.get('https://www.amazon.com'+url_dropdown.value)`"
   ]
  },
  {
   "cell_type": "code",
   "execution_count": 1,
   "metadata": {
    "deletable": false,
    "editable": false
   },
   "outputs": [
    {
     "data": {
      "application/vnd.jupyter.widget-view+json": {
       "model_id": "6e7270bc05d14f519f1cbe482616b661",
       "version_major": 2,
       "version_minor": 0
      },
      "text/plain": [
       "Dropdown(description='URLS:', options=('/charts', '/gp/new-releases', '/gp/goldbox', '/Best-Sellers/zgbs'), va…"
      ]
     },
     "metadata": {},
     "output_type": "display_data"
    }
   ],
   "source": [
    "## Edgecase: A dropdown list of Amazon URLS, in the event we run into a CAPTCHA\n",
    "\n",
    "url_list = [\n",
    "    '/charts',\n",
    "    '/gp/new-releases',\n",
    "    '/gp/goldbox',\n",
    "    '/Best-Sellers/zgbs'\n",
    "]\n",
    "\n",
    "url_dropdown = widgets.Dropdown(\n",
    "    options=url_list,\n",
    "    value=url_list[0],\n",
    "    description='URLS:',\n",
    "    disabled=False,\n",
    ")\n",
    "\n",
    "display(url_dropdown)"
   ]
  },
  {
   "cell_type": "code",
   "execution_count": null,
   "metadata": {},
   "outputs": [],
   "source": [
    "## Enter a webpage to load\n",
    "\n",
    "browser.get('https://www.amazon.com'+url_dropdown.value)"
   ]
  },
  {
   "cell_type": "markdown",
   "metadata": {
    "deletable": false,
    "editable": false,
    "run_control": {
     "frozen": true
    }
   },
   "source": [
    "## A few ways to interact with the loaded web page:\n",
    "\n",
    "### Interact with the `html` of the web page:\n",
    "  - `html( browser.page_source )`\n",
    "  \n",
    "### View an `image` of the web page:  \n",
    "  - `image( browser.get_screenshot_as_png() )`\n",
    "  \n",
    "### Browse the source code of the `html ` web page:  \n",
    "  - `display( browser.page_source )`  "
   ]
  },
  {
   "cell_type": "code",
   "execution_count": null,
   "metadata": {},
   "outputs": [],
   "source": [
    "## Load in an image of the webpage:\n"
   ]
  },
  {
   "cell_type": "code",
   "execution_count": null,
   "metadata": {},
   "outputs": [],
   "source": [
    "## Load the interactive HTML view of the webpage:\n",
    "\n"
   ]
  },
  {
   "cell_type": "markdown",
   "metadata": {
    "deletable": false,
    "editable": false,
    "run_control": {
     "frozen": true
    }
   },
   "source": [
    "<br>\n",
    "<br>\n",
    "\n",
    "# Let's select a specific element from the web page:\n"
   ]
  },
  {
   "cell_type": "markdown",
   "metadata": {
    "deletable": false,
    "editable": false,
    "run_control": {
     "frozen": true
    }
   },
   "source": [
    "## Import the `Selenium`  tools for selection\n",
    "\n",
    " - `from selenium.webdriver.common.by import By`"
   ]
  },
  {
   "cell_type": "code",
   "execution_count": null,
   "metadata": {},
   "outputs": [],
   "source": [
    "## Import the selection tools from Selenium:\n",
    "\n"
   ]
  },
  {
   "cell_type": "markdown",
   "metadata": {
    "deletable": false,
    "editable": false,
    "run_control": {
     "frozen": true
    }
   },
   "source": [
    "### Here are just a few ways we can select elements:\n",
    "\n",
    " - `TAG_NAME`\n",
    " - `CLASS_NAME`\n",
    " - `CSS_SELECTOR`\n",
    " \n",
    "### Example:\n",
    " - `browser.find_element(By.TAG_NAME, 'header')`\n",
    "\n",
    "### Further Reading:\n",
    " - [Selenium Documentation: Selecting Elements](https://selenium-python.readthedocs.io/locating-elements.html)"
   ]
  },
  {
   "cell_type": "code",
   "execution_count": null,
   "metadata": {
    "deletable": false,
    "editable": false
   },
   "outputs": [],
   "source": [
    "## Example:\n",
    "## browser.find_element(By.TAG_NAME, 'body')\n",
    "\n",
    "element = browser.find_element(By.TAG_NAME, 'body')"
   ]
  },
  {
   "cell_type": "code",
   "execution_count": null,
   "metadata": {},
   "outputs": [],
   "source": [
    "## Select an element from the webpage and save the reference as a variable:\n",
    "\n"
   ]
  },
  {
   "cell_type": "markdown",
   "metadata": {
    "deletable": false,
    "editable": false,
    "run_control": {
     "frozen": true
    }
   },
   "source": [
    "## We can view the selected element as a screenshot:\n",
    "\n",
    " - `image( element.screenshot_as_png )`"
   ]
  },
  {
   "cell_type": "code",
   "execution_count": null,
   "metadata": {
    "deletable": false,
    "editable": false
   },
   "outputs": [],
   "source": [
    "## Get a screenshot of the element to confirm that it's the one you were looking for:\n",
    "\n",
    "image( element.screenshot_as_png )"
   ]
  },
  {
   "cell_type": "code",
   "execution_count": null,
   "metadata": {},
   "outputs": [],
   "source": [
    "## View an element as a screenshot:\n",
    "\n"
   ]
  },
  {
   "cell_type": "markdown",
   "metadata": {
    "deletable": false,
    "editable": false,
    "run_control": {
     "frozen": true
    }
   },
   "source": [
    "<br>\n",
    "\n",
    "# How can we find other element classes, ids, and tags?\n",
    "\n",
    "### We can load the browser source into an interactive view and use the Chrome Developer Tools:\n",
    "\n",
    " - `html(browser.page_source)`\n",
    "\n",
    "<br>"
   ]
  },
  {
   "cell_type": "code",
   "execution_count": null,
   "metadata": {},
   "outputs": [],
   "source": [
    "## Load your webpage and inspect an element:\n",
    "\n"
   ]
  },
  {
   "cell_type": "code",
   "execution_count": null,
   "metadata": {},
   "outputs": [],
   "source": [
    "## Try out a few other ways of selecting elements and viewing them.\n",
    "## Example:\n",
    "## image( browser.find_element(By.ID, 'rank1').screenshot_as_png )\n",
    "## image( browser.find_element(By.TAG_NAME, 'header').screenshot_as_png )\n",
    "\n"
   ]
  },
  {
   "cell_type": "markdown",
   "metadata": {
    "deletable": false,
    "editable": false,
    "run_control": {
     "frozen": true
    }
   },
   "source": [
    "<br>\n",
    "<br>"
   ]
  },
  {
   "cell_type": "code",
   "execution_count": null,
   "metadata": {
    "deletable": false,
    "editable": false
   },
   "outputs": [],
   "source": [
    "## View an image of our element - but we may need to make some changes:\n",
    "\n",
    "image( browser.find_element(By.TAG_NAME, 'BODY').screenshot_as_png )"
   ]
  },
  {
   "cell_type": "markdown",
   "metadata": {
    "deletable": false,
    "editable": false,
    "run_control": {
     "frozen": true
    }
   },
   "source": [
    "<br>\n",
    "\n",
    "## That's cool, but can we remove the scrollbars?\n",
    "## Or, change the size of the browser for a larger size?\n",
    "\n",
    "### Absolutely! - We can add in a custom option to our browser to hide the scrollbars:\n",
    "\n",
    " - `custom_options.add_argument('--hide-scrollbars')`\n",
    " - `custom_options.add_argument('window-size=1242,2688')`\n",
    " \n",
    "### Further Reading:\n",
    "\n",
    " - [Chrome Driver: Capabilities & Options](https://chromedriver.chromium.org/capabilities)"
   ]
  },
  {
   "cell_type": "code",
   "execution_count": null,
   "metadata": {},
   "outputs": [],
   "source": [
    "## Add in your custom option to hide scrollbars:\n",
    "\n"
   ]
  },
  {
   "cell_type": "code",
   "execution_count": null,
   "metadata": {
    "deletable": false,
    "editable": false
   },
   "outputs": [],
   "source": [
    "## We have to close and create the browser, because we are adding in new options.\n",
    "## Run the code to refresh the options and browser:\n",
    "\n",
    "browser.close()\n",
    "browser = webdriver.Chrome(options=custom_options)\n",
    "browser.get('https://www.amazon.com/'+url_dropdown.value)"
   ]
  },
  {
   "cell_type": "code",
   "execution_count": null,
   "metadata": {
    "deletable": false,
    "editable": false
   },
   "outputs": [],
   "source": [
    "## Example:\n",
    "## With the reloaded browser, find an element and display it as an image.\n",
    "\n",
    "image( browser.find_element(By.TAG_NAME, 'span').screenshot_as_png )"
   ]
  },
  {
   "cell_type": "markdown",
   "metadata": {
    "deletable": false,
    "editable": false,
    "run_control": {
     "frozen": true
    }
   },
   "source": [
    "---"
   ]
  },
  {
   "cell_type": "markdown",
   "metadata": {
    "deletable": false,
    "editable": false,
    "run_control": {
     "frozen": true
    }
   },
   "source": [
    "# A book recommendation: &#128214; &#128217;\n",
    " > _Data scraping a series of books that you may have missed or not known about._"
   ]
  },
  {
   "cell_type": "markdown",
   "metadata": {
    "deletable": false,
    "editable": false,
    "run_control": {
     "frozen": true
    }
   },
   "source": [
    "### Let's load the best selling books from Amazon:\n",
    "\n",
    " - `https://www.amazon.com/gp/bestsellers/2019/books/`"
   ]
  },
  {
   "cell_type": "markdown",
   "metadata": {
    "deletable": false,
    "editable": false,
    "run_control": {
     "frozen": true
    }
   },
   "source": [
    "- Think _Time Travel_ is cool?\n",
    "- Or just curious about what a different set of results would look like?\n",
    "- Use the dropdown to set a year and create your `URL`"
   ]
  },
  {
   "cell_type": "code",
   "execution_count": 2,
   "metadata": {},
   "outputs": [
    {
     "data": {
      "application/vnd.jupyter.widget-view+json": {
       "model_id": "0d93294b8ecf4b77b476e8c6cb4a7bf3",
       "version_major": 2,
       "version_minor": 0
      },
      "text/plain": [
       "Dropdown(description='Year:', index=24, options=(1995, 1996, 1997, 1998, 1999, 2000, 2001, 2002, 2003, 2004, 2…"
      ]
     },
     "metadata": {},
     "output_type": "display_data"
    }
   ],
   "source": [
    "book_year = widgets.Dropdown(\n",
    "    options=range(1995, 2020),\n",
    "    value=2019,\n",
    "    description='Year:',\n",
    "    disabled=False,\n",
    ")\n",
    "\n",
    "display(book_year)"
   ]
  },
  {
   "cell_type": "code",
   "execution_count": null,
   "metadata": {
    "deletable": false,
    "editable": false
   },
   "outputs": [],
   "source": [
    "## Run the code to generate your URL\n",
    "## To see a list of the top selling books that year.\n",
    "\n",
    "amazon_url = 'https://www.amazon.com/gp/bestsellers/{}/books/'.format(book_year.value)\n",
    "print(amazon_url)"
   ]
  },
  {
   "cell_type": "code",
   "execution_count": null,
   "metadata": {},
   "outputs": [],
   "source": [
    "## Load the URL into the browser\n",
    "\n"
   ]
  },
  {
   "cell_type": "code",
   "execution_count": null,
   "metadata": {
    "scrolled": true
   },
   "outputs": [],
   "source": [
    "## We can view or interact with the newly loaded page:\n",
    "\n"
   ]
  },
  {
   "cell_type": "code",
   "execution_count": null,
   "metadata": {
    "deletable": false,
    "editable": false
   },
   "outputs": [],
   "source": [
    "## The HTML is local, which means we can inspect with the Chrome Devtools:\n",
    "\n",
    "html( browser.page_source )"
   ]
  },
  {
   "cell_type": "markdown",
   "metadata": {
    "deletable": false,
    "editable": false,
    "run_control": {
     "frozen": true
    }
   },
   "source": [
    "<br>\n",
    "\n",
    "# We can do everything that we would normally do in the browser.\n",
    "\n",
    "## Let's run some `Javascript` inside the DOM of the loaded browser page.\n",
    "\n",
    " - `browser.execute_script( 'return Date.now().toString()' )`"
   ]
  },
  {
   "cell_type": "code",
   "execution_count": null,
   "metadata": {},
   "outputs": [],
   "source": [
    "## Pretty much all Javascript that would run in Chrome DevTools is valid:\n",
    "\n"
   ]
  },
  {
   "cell_type": "code",
   "execution_count": null,
   "metadata": {
    "deletable": false,
    "editable": false,
    "scrolled": true
   },
   "outputs": [],
   "source": [
    "## Example:\n",
    "## All the Javascript options we normally would have are available for us to parse data.\n",
    "## Using the DOM, we can search for elements that match the CSS classes of the book results\n",
    "\n",
    "multiline_code = '''\n",
    "\n",
    "var book_data =  document.querySelectorAll('.aok-inline-block.zg-item')\n",
    "return book_data[0].innerText\n",
    "\n",
    "'''\n",
    "\n",
    "browser.execute_script(multiline_code)"
   ]
  },
  {
   "cell_type": "code",
   "execution_count": null,
   "metadata": {},
   "outputs": [],
   "source": [
    "## Enter in your own multiline Javascript code to run:\n",
    "\n",
    "multiline_code = '''\n",
    "'''\n",
    "\n",
    "browser.execute_script(multiline_code) "
   ]
  },
  {
   "cell_type": "code",
   "execution_count": null,
   "metadata": {
    "deletable": false,
    "editable": false
   },
   "outputs": [],
   "source": [
    "## Javascript:\n",
    "## Using the DOM, we will search for all the elements that match the CSS classes for the book results.\n",
    "## Then take each result and create an array from the innertext value.\n",
    "## Finally, split the new line results to be formatted as JSON.\n",
    "\n",
    "multiline_code = '''\n",
    "var book_data = \n",
    "    Array.from(document.querySelectorAll('.aok-inline-block.zg-item'))\n",
    "    .map((element, index) => {\n",
    "     var book = element.innerText.trim().split('\\\\n')\n",
    "        return {\n",
    "            id: index,\n",
    "            title: book[0],\n",
    "            author: book[1],\n",
    "            reviews: book[2],\n",
    "            price: book[4],\n",
    "        }\n",
    "    });\n",
    "     \n",
    "return book_data;\n",
    "'''\n",
    "\n",
    "amazon = browser.execute_script(multiline_code)"
   ]
  },
  {
   "cell_type": "code",
   "execution_count": null,
   "metadata": {
    "deletable": false,
    "editable": false
   },
   "outputs": [],
   "source": [
    "## A simple widget to help select on of the 50 possible results from the book list\n",
    "\n",
    "rank_position = widgets.Dropdown(\n",
    "    options=range(1, 51),\n",
    "    value=1,\n",
    "    description='Book Rank Position:',\n",
    "    disabled=False,\n",
    ")\n",
    "\n",
    "display(rank_position)"
   ]
  },
  {
   "cell_type": "code",
   "execution_count": null,
   "metadata": {
    "deletable": false,
    "editable": false
   },
   "outputs": [],
   "source": [
    "## Amazon returns 50 results on the first page.\n",
    "## We can save a reference of the book position for later.\n",
    "## Run the code and view the book you selected:\n",
    "\n",
    "book_position = (rank_position.index)\n",
    "amazon[book_position]"
   ]
  },
  {
   "cell_type": "markdown",
   "metadata": {
    "deletable": false,
    "editable": false,
    "run_control": {
     "frozen": true
    }
   },
   "source": [
    "> Have you found a book that you _may_ find interesting? We are going to use it for the next part of the workshop."
   ]
  },
  {
   "cell_type": "markdown",
   "metadata": {
    "deletable": false,
    "editable": false,
    "run_control": {
     "frozen": true
    }
   },
   "source": [
    "---"
   ]
  },
  {
   "cell_type": "markdown",
   "metadata": {
    "deletable": false,
    "editable": false,
    "run_control": {
     "frozen": true
    }
   },
   "source": [
    "# A podcast review of the book: &#127911; &#127908;\n",
    " > _Why judge a book by it's cover when you can listen to it instead?_"
   ]
  },
  {
   "cell_type": "markdown",
   "metadata": {
    "deletable": false,
    "editable": false,
    "run_control": {
     "frozen": true
    }
   },
   "source": [
    "\n",
    "## While there are APIs for such things, that would require:\n",
    "\n",
    "- signing up\n",
    "- trial accounts and credit cards\n",
    "- email verification\n",
    " \n",
    " \n",
    "### We will use _[Listen Notes](https://www.listennotes.com)_ for searching and finding podcasts about the book results.\n",
    "\n",
    "### Further Reading:\n",
    " - [Listen API: Podcast Search & Directory API](https://www.listennotes.com/api/)\n",
    " - [Listen API Docs](https://www.listennotes.com/api/docs/)"
   ]
  },
  {
   "cell_type": "code",
   "execution_count": null,
   "metadata": {
    "deletable": false,
    "editable": false
   },
   "outputs": [],
   "source": [
    "## We can load ListenNotes and show the screenshot, for those who may have never used the site:\n",
    "\n",
    "browser.get('https://www.listennotes.com/')\n",
    "image( browser.get_screenshot_as_png() )"
   ]
  },
  {
   "cell_type": "markdown",
   "metadata": {
    "deletable": false,
    "editable": false,
    "run_control": {
     "frozen": true
    }
   },
   "source": [
    "<br>\n",
    "\n",
    "## We can automate a search for a podcast recommendation about our book and the author.\n",
    "\n",
    "### First, we will need to parse and format the book results `JSON` into an `HTML Encoded URL`.\n",
    " > We can do that with another import from Python \n",
    " \n",
    " - `import urllib.parse`"
   ]
  },
  {
   "cell_type": "code",
   "execution_count": null,
   "metadata": {},
   "outputs": [],
   "source": [
    "## We will need to URL Encode and parse search_query for ListenNotes.com \n",
    "\n"
   ]
  },
  {
   "cell_type": "code",
   "execution_count": null,
   "metadata": {
    "deletable": false,
    "editable": false
   },
   "outputs": [],
   "source": [
    "## Run the code to create the search query URL:\n",
    "\n",
    "search_query = urllib.parse.quote( amazon[book_position]['author'] + ' ' +  amazon[book_position]['title'] )"
   ]
  },
  {
   "cell_type": "code",
   "execution_count": null,
   "metadata": {},
   "outputs": [],
   "source": [
    "## Didn't like your book selection from the Amazon list? \n",
    "## Feel free to change the code to pick a different book and view the results.\n",
    "## Example: Select the number one best seller of the year.\n",
    "## print(amazon[0])\n",
    "\n",
    "\n",
    "## Create search_query if you have changed your book selection:\n"
   ]
  },
  {
   "cell_type": "code",
   "execution_count": null,
   "metadata": {},
   "outputs": [],
   "source": [
    "## Let's make sure the query is formatted properly\n",
    "## print out the search_query URL:\n",
    "\n"
   ]
  },
  {
   "cell_type": "code",
   "execution_count": null,
   "metadata": {
    "deletable": false,
    "editable": false
   },
   "outputs": [],
   "source": [
    "## We can now build the URL for ListenNotes.com to start the search query for a podcast about the book & author\n",
    "\n",
    "search_url = 'https://www.listennotes.com/search/?q='\n",
    "search_url += search_query\n",
    "search_url += '&sort_by_date=0&scope=episode&offset=0&language=Any%20language&len_min=0'"
   ]
  },
  {
   "cell_type": "code",
   "execution_count": null,
   "metadata": {
    "deletable": false,
    "editable": false
   },
   "outputs": [],
   "source": [
    "## Let's make sure the final search URL is formatted properly\n",
    "## We can click on the result to confirm that it's a valid link\n",
    "\n",
    "print(search_url)"
   ]
  },
  {
   "cell_type": "code",
   "execution_count": null,
   "metadata": {},
   "outputs": [],
   "source": [
    "## Now we can have Chrome fetch the query using our URL\n",
    "\n",
    "## Edgecase: You may have selected a book with a title that will give zero results.\n",
    "\n",
    "## Try changing your url to only have the author if your search results are too narrow.\n",
    "## Have the browser get the podcast search_url:\n",
    "\n"
   ]
  },
  {
   "cell_type": "code",
   "execution_count": null,
   "metadata": {},
   "outputs": [],
   "source": [
    "## Before we start parsing the response, we can view the ListenNotes.com search results.\n",
    "## Load an image of the search as a screenshot:\n",
    "\n"
   ]
  },
  {
   "cell_type": "code",
   "execution_count": null,
   "metadata": {
    "deletable": false,
    "editable": false,
    "scrolled": true
   },
   "outputs": [],
   "source": [
    "## We now can get the podcast results by selecting their CSS value\n",
    "## The CSS class for each search result is the following:\n",
    "\n",
    "podcasts = browser.find_elements(By.CLASS_NAME, 'ln-search-results-card')"
   ]
  },
  {
   "cell_type": "markdown",
   "metadata": {
    "deletable": false,
    "editable": false,
    "run_control": {
     "frozen": true
    }
   },
   "source": [
    "## `Selenium` allows us to access  the `HTML` `attributes` that are native to the `DOM`\n",
    "\n",
    "> Use the `get_attribute` option on our selected element\n",
    "\n",
    "- `podcasts[0].get_attribute('innerText')`"
   ]
  },
  {
   "cell_type": "code",
   "execution_count": null,
   "metadata": {},
   "outputs": [],
   "source": [
    "## Display the text of our podcast search query:\n"
   ]
  },
  {
   "cell_type": "code",
   "execution_count": 3,
   "metadata": {
    "deletable": false,
    "editable": false
   },
   "outputs": [
    {
     "data": {
      "application/vnd.jupyter.widget-view+json": {
       "model_id": "01a9a0142a084bd098dc2ddda83fb126",
       "version_major": 2,
       "version_minor": 0
      },
      "text/plain": [
       "Dropdown(description='Position:', options=(1, 2, 3, 4, 5), value=1)"
      ]
     },
     "metadata": {},
     "output_type": "display_data"
    }
   ],
   "source": [
    "## Another widget to help select the podcast results from the list\n",
    "\n",
    "podcast_position = widgets.Dropdown(\n",
    "    options=range(1, 6),\n",
    "    value=1,\n",
    "    description='Position:',\n",
    "    disabled=False,\n",
    ")\n",
    "\n",
    "display(podcast_position)"
   ]
  },
  {
   "cell_type": "code",
   "execution_count": null,
   "metadata": {
    "deletable": false,
    "editable": false
   },
   "outputs": [],
   "source": [
    "## Our updated display of text from the position selection:\n",
    "\n",
    "html( podcasts[podcast_position.index].get_attribute('innerText') )"
   ]
  },
  {
   "cell_type": "code",
   "execution_count": null,
   "metadata": {},
   "outputs": [],
   "source": [
    "## Set the result to return from the podcast results.\n",
    "## Typically there will be around 10 results for a search response and possibly some pagination.\n",
    "## This will be an array, so we can start with zero to get the first podcast result.\n",
    "## If you found a podcast result that you think you may want to listen to, change the default podcast_position.\n",
    "## Either use the widget, or hard code the position:\n",
    "\n",
    "# podcast_position = 0"
   ]
  },
  {
   "cell_type": "code",
   "execution_count": null,
   "metadata": {
    "deletable": false,
    "editable": false,
    "scrolled": false
   },
   "outputs": [],
   "source": [
    "## Let's take a look at a viewable result of the podcast and the item position from the results:\n",
    "## We can create a temporaty browser for just viewing and parsing the podcast data:\n",
    "\n",
    "\n",
    "podcast_html = podcasts[podcast_position.index].get_attribute('innerHTML')\n",
    "\n",
    "temp_browser = webdriver.Chrome(options=custom_options);\n",
    "temp_browser.get(\"data:text/html;charset=utf-8,\" + podcast_html)\n",
    "\n",
    "# image( podcast_browser.get_screenshot_as_png() )\n",
    "html( temp_browser.page_source )"
   ]
  },
  {
   "cell_type": "markdown",
   "metadata": {
    "deletable": false,
    "editable": false,
    "run_control": {
     "frozen": true
    }
   },
   "source": [
    "## The podcast audio URL is inside a click event and will only be viewable afterward.\n",
    "## We can click the element with the following:\n",
    "\n",
    " - `open_menu = browser.find_elements(By.CSS_SELECTOR, 'div > i.fas.fa-ellipsis-h')[podcast_position.index].click()`"
   ]
  },
  {
   "cell_type": "code",
   "execution_count": null,
   "metadata": {},
   "outputs": [],
   "source": [
    "## Add the code needed to get the audio URL:\n",
    "\n"
   ]
  },
  {
   "cell_type": "code",
   "execution_count": null,
   "metadata": {
    "deletable": false,
    "editable": false
   },
   "outputs": [],
   "source": [
    "## Select the podcast audio url:\n",
    "\n",
    "podcast_element = browser.find_elements(By.CSS_SELECTOR,'div.ln-button-dropdown-sheet-menu-item > a')[0]\n",
    "podcast_url = podcast_element.get_attribute('href')"
   ]
  },
  {
   "cell_type": "code",
   "execution_count": null,
   "metadata": {
    "deletable": false,
    "editable": false
   },
   "outputs": [],
   "source": [
    "## Close the menu inside the headless browser to refresh the url:\n",
    "\n",
    "close_menu = browser.find_elements(By.CSS_SELECTOR, 'div.ln-button-dropdown-sheet-close > a > i')[0].click()"
   ]
  },
  {
   "cell_type": "code",
   "execution_count": null,
   "metadata": {},
   "outputs": [],
   "source": [
    "## We can verify that the podcast URL is valid by clicking on the link\n",
    "\n"
   ]
  },
  {
   "cell_type": "markdown",
   "metadata": {
    "deletable": false,
    "editable": false,
    "run_control": {
     "frozen": true
    }
   },
   "source": [
    "## Finally,  use `HTML5` and the `audio` tag to play the podcast.\n",
    "## Take a listen or download the link for later."
   ]
  },
  {
   "cell_type": "code",
   "execution_count": null,
   "metadata": {
    "deletable": false,
    "editable": false
   },
   "outputs": [],
   "source": [
    "## Using our temp_browser we can parse the innerHTML with Selenium while preserving our original browser data:\n",
    "\n",
    "podcast_title = temp_browser.find_element(By.CLASS_NAME, 'ln-episode-card-info-title').get_attribute('innerText')\n",
    "podcast_episode = temp_browser.find_element(By.CLASS_NAME, 'ln-episode-card-title').get_attribute('innerText')"
   ]
  },
  {
   "cell_type": "code",
   "execution_count": null,
   "metadata": {},
   "outputs": [],
   "source": [
    "display(\n",
    "    podcast_title,\n",
    "    podcast_episode\n",
    ")\n",
    "\n",
    "html('<audio controls src=\"{}\"></audio>'.format(podcast_url))"
   ]
  },
  {
   "cell_type": "markdown",
   "metadata": {
    "deletable": false,
    "editable": false,
    "run_control": {
     "frozen": true
    }
   },
   "source": [
    "# What did we accomplish? &#127942; &#127891;\n",
    " > Lessons from learning the basics of the `Selenium` framework with `Python`:\n",
    "\n",
    "- Hopefully, a new podcast that you may have never heard of!\n",
    "- Secondly, a book recommendation that you may have wanted to read but was lost in the noise\n",
    "- Finally, _practical programming_ is about inspiring the creative spark in others to be:\n",
    "    - curious\n",
    "    - create something\n",
    "    - remixing the data we all have access to!\n"
   ]
  },
  {
   "cell_type": "markdown",
   "metadata": {
    "deletable": false,
    "editable": false,
    "run_control": {
     "frozen": true
    }
   },
   "source": [
    "# Next Steps: &#9997; &#128214;\n",
    "> Beyond the basics...\n",
    "\n",
    "- Add some small touches to help with the UX\n",
    "- Build functions around the concepts to batch process multiple podcasts and books\n",
    "- Build a function to randomize the suggestions and create a \"book and podcast of the day recommendation\"\n",
    "- Keep coding, being curious, and creating!"
   ]
  },
  {
   "cell_type": "markdown",
   "metadata": {
    "deletable": false,
    "editable": false,
    "run_control": {
     "frozen": true
    }
   },
   "source": [
    "### Thank You!"
   ]
  },
  {
   "cell_type": "markdown",
   "metadata": {
    "deletable": false,
    "editable": false,
    "run_control": {
     "frozen": true
    }
   },
   "source": [
    "--- \n",
    "\n",
    "### Reference For Further Reading:\n",
    " - [Selenium Python API Documentation: ReadTheDocs](https://selenium-python.readthedocs.io/index.html)\n",
    " - [Selenium Python API Documentation: Github](https://seleniumhq.github.io/selenium/docs/api/py/)"
   ]
  }
 ],
 "metadata": {
  "kernelspec": {
   "display_name": "Python 3",
   "language": "python",
   "name": "python3"
  },
  "language_info": {
   "codemirror_mode": {
    "name": "ipython",
    "version": 3
   },
   "file_extension": ".py",
   "mimetype": "text/x-python",
   "name": "python",
   "nbconvert_exporter": "python",
   "pygments_lexer": "ipython3",
   "version": "3.7.3"
  }
 },
 "nbformat": 4,
 "nbformat_minor": 2
}
