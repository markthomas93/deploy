{
 "cells": [
  {
   "cell_type": "code",
   "execution_count": 1,
   "metadata": {},
   "outputs": [],
   "source": [
    "from ipywidgets import Layout, Button, Box\n",
    "from ipywidgets import IntProgress\n",
    "from IPython.display import display\n",
    "import time"
   ]
  },
  {
   "cell_type": "code",
   "execution_count": 2,
   "metadata": {},
   "outputs": [],
   "source": [
    "## Add in the Selenium framework to automate Chrome:\n",
    "\n",
    "import json\n",
    "import selenium\n",
    "import selenium.webdriver as webdriver\n"
   ]
  },
  {
   "cell_type": "code",
   "execution_count": 3,
   "metadata": {},
   "outputs": [],
   "source": [
    "## Create and add in our custom options:\n",
    "\n",
    "custom_options = webdriver.ChromeOptions()\n",
    "custom_options.add_argument('headless')"
   ]
  },
  {
   "cell_type": "code",
   "execution_count": 4,
   "metadata": {},
   "outputs": [],
   "source": [
    "## Edgecase:\n",
    "## Needed for Mybinder.org Google Cloud deployment when saving browser data to cache and forcing /tmp/\n",
    "\n",
    "custom_options.add_argument('--disable-dev-shm-usage')"
   ]
  },
  {
   "cell_type": "code",
   "execution_count": 5,
   "metadata": {},
   "outputs": [],
   "source": [
    "## Create the browser:\n",
    "\n",
    "browser = webdriver.Chrome(options=custom_options)"
   ]
  },
  {
   "cell_type": "code",
   "execution_count": 6,
   "metadata": {
    "scrolled": true
   },
   "outputs": [
    {
     "data": {
      "application/vnd.jupyter.widget-view+json": {
       "model_id": "4a41f89ce721433dbf8d752eaa5e7738",
       "version_major": 2,
       "version_minor": 0
      },
      "text/plain": [
       "IntSlider(value=2010, description='Year:', max=2019, min=1941)"
      ]
     },
     "metadata": {},
     "output_type": "display_data"
    },
    {
     "data": {
      "application/vnd.jupyter.widget-view+json": {
       "model_id": "df004a0250f14a7fb205d0f0695d7a9c",
       "version_major": 2,
       "version_minor": 0
      },
      "text/plain": [
       "IntText(value=2010, description='1941-2019:')"
      ]
     },
     "metadata": {},
     "output_type": "display_data"
    }
   ],
   "source": [
    "## Edgecase:\n",
    "## - NewYorkTimes Fiction Years are consistent beyond 1940.\n",
    "## - Non-Fiction starts around the year 2000.\n",
    "\n",
    "year_slider = widgets.IntSlider(\n",
    "    min=1941,\n",
    "    max=2019,\n",
    "    step=1,\n",
    "    value=2010,\n",
    "    description='Year:',\n",
    "    disabled=False,\n",
    "    orientation='horizontal',\n",
    ")\n",
    "\n",
    "year_textbox = widgets.IntText(\n",
    "    min=1941,\n",
    "    max=2019,\n",
    "    value=year_slider.value,\n",
    "    description='1941-2019:',\n",
    "    orientation='horizontal',\n",
    "    disabled=False\n",
    ")\n",
    "\n",
    "\n",
    "widgets.jslink((year_textbox, 'value'), (year_slider, 'value'))\n",
    "\n",
    "def on_change(value_to_watch):\n",
    "    year_slider.value = value_to_watch['new']\n",
    "    nytimes_url = 'https://en.wikipedia.org/wiki/The_New_York_Times_Fiction_Best_Sellers_of_{}'.format(value_to_watch['new'])\n",
    "\n",
    "year_slider.observe(on_change, names='value')\n",
    "\n",
    "display(year_slider, year_textbox)\n"
   ]
  },
  {
   "cell_type": "code",
   "execution_count": 7,
   "metadata": {},
   "outputs": [
    {
     "name": "stdout",
     "output_type": "stream",
     "text": [
      "https://en.wikipedia.org/wiki/The_New_York_Times_Fiction_Best_Sellers_of_1986\n"
     ]
    }
   ],
   "source": [
    "## Create the New York Times Best Seller Historical List:\n",
    "\n",
    "\n",
    "nytimes_url = 'https://en.wikipedia.org/wiki/The_New_York_Times_Fiction_Best_Sellers_of_{}'.format(year_slider.value)\n",
    "print( nytimes_url )\n"
   ]
  },
  {
   "cell_type": "code",
   "execution_count": 8,
   "metadata": {},
   "outputs": [],
   "source": [
    "browser.get(nytimes_url)"
   ]
  },
  {
   "cell_type": "code",
   "execution_count": 9,
   "metadata": {},
   "outputs": [],
   "source": [
    "## Import the selection tools from Selenium:\n",
    "\n",
    "from selenium.webdriver.common.by import By "
   ]
  },
  {
   "cell_type": "code",
   "execution_count": 10,
   "metadata": {},
   "outputs": [],
   "source": [
    "## Table selection of row data via CSS_SELECTOR and child selection via nth-child()\n",
    "\n",
    "element_titles = browser.find_elements(By.CSS_SELECTOR, 'td:nth-last-child(3) ~ td:nth-child(2)' )\n",
    "element_authors = browser.find_elements(By.CSS_SELECTOR, 'td:nth-last-child(3) ~ td:nth-child(3)' )\n",
    "\n"
   ]
  },
  {
   "cell_type": "code",
   "execution_count": 11,
   "metadata": {},
   "outputs": [],
   "source": [
    "## Create JSON structure via a Python Dictionary\n",
    "\n",
    "unsorted_books = [{\n",
    "    \n",
    "    'title': title.get_attribute('innerText'),\n",
    "    'author': author.get_attribute('innerText')}\n",
    "    \n",
    "    for title, author in zip( element_titles,element_authors )\n",
    "]\n",
    "\n",
    "## Debug:\n",
    "# print( unsorted_books[0] )"
   ]
  },
  {
   "cell_type": "code",
   "execution_count": 12,
   "metadata": {},
   "outputs": [],
   "source": [
    "## Debug:\n",
    "## confirm that all results are the same length, and scraped properly\n",
    "\n",
    "# print('json:' , len(unsorted_books) )\n",
    "# print('tites:', len(element_titles) )\n",
    "# print('authors:', len(element_authors) )"
   ]
  },
  {
   "cell_type": "code",
   "execution_count": 13,
   "metadata": {},
   "outputs": [],
   "source": [
    "## Notes:\n",
    "\n",
    "## Map the json.dumps,\n",
    "## to encode the dictionaries as json objects which are immutable.\n",
    "\n",
    "## Set can then be used to produce an iterable of unique immutables.\n",
    "\n",
    "## Finally, we convert back to our dictionary representation using json.loads\n",
    "## Note that initially, one must sort by keys to arrange the dictionaries in a unique form.\n",
    "\n",
    "books = sorted(list(\n",
    "    map(\n",
    "        json.loads, set( map(json.dumps, unsorted_books) )\n",
    "    )\n",
    "),key=lambda key_value: key_value['title']) \n",
    "\n",
    "## Debug:\n",
    "## confirm that books are now sorted by alphanum via title, \n",
    "## print( books )"
   ]
  },
  {
   "cell_type": "code",
   "execution_count": 14,
   "metadata": {},
   "outputs": [],
   "source": [
    "## UI widget for book selection\n",
    "\n",
    "ui_list = []\n",
    "\n",
    "for item in books:\n",
    "    ui_list.append('{} : {}'.format(item['title'],item['author'])) \n",
    "\n",
    "ui_list.sort()"
   ]
  },
  {
   "cell_type": "code",
   "execution_count": 15,
   "metadata": {
    "scrolled": true
   },
   "outputs": [],
   "source": [
    "## Note:\n",
    "## Deprecated in favor of multi selection\n",
    "\n",
    "# ui_index = widgets.IntText(\n",
    "#     min=0,\n",
    "#     max=(len(ui_list)-1),\n",
    "#     value=0,\n",
    "#     step=1,\n",
    "#     description='index:',\n",
    "#     disabled=False\n",
    "# )\n",
    "\n",
    "\n",
    "# ui_dropdown = widgets.Dropdown(\n",
    "#     options=ui_list,\n",
    "#     description='books:',\n",
    "#     disabled=False,\n",
    "# )\n",
    "\n",
    "\n",
    "# widgets.jslink( (ui_index, 'value'), (ui_dropdown, 'index'))\n",
    "\n",
    "# display(ui_dropdown)\n",
    "\n",
    "## Debug:\n",
    "## confirm that book selection and ui widget are the correct output\n",
    "# print(books[ui_dropdown.index]['title'])\n",
    "# print(books[ui_dropdown.index]['author'])"
   ]
  },
  {
   "cell_type": "code",
   "execution_count": 16,
   "metadata": {
    "scrolled": false
   },
   "outputs": [
    {
     "data": {
      "application/vnd.jupyter.widget-view+json": {
       "model_id": "2106eb0dc93e4c4ca17b3a3e421aa059",
       "version_major": 2,
       "version_minor": 0
      },
      "text/plain": [
       "SelectMultiple(description='Book Selection:', layout=Layout(width='80%'), options=('A Perfect Spy : John le Ca…"
      ]
     },
     "metadata": {},
     "output_type": "display_data"
    }
   ],
   "source": [
    "# ui_html = widgets.HTML\n",
    "\n",
    "ui_book_selection = widgets.SelectMultiple(\n",
    "    options=ui_list,\n",
    "    rows=5,\n",
    "    layout={'width': '80%'},\n",
    "    description='Book Selection:',\n",
    "    disabled=False\n",
    ")\n",
    "\n",
    "display( ui_book_selection )"
   ]
  },
  {
   "cell_type": "code",
   "execution_count": 18,
   "metadata": {},
   "outputs": [
    {
     "name": "stdout",
     "output_type": "stream",
     "text": [
      "['A Perfect Spy', 'It', 'Last of the Breed', 'Red Storm Rising', 'The Bourne Supremacy', 'Wanderlust']\n"
     ]
    }
   ],
   "source": [
    "book_covers_to_fetch = []\n",
    "\n",
    "for item in range(len(ui_book_selection.index)):\n",
    "    selected = ui_book_selection.index[item]\n",
    "    book_covers_to_fetch.append(books[selected]['title'])\n",
    "#     book_covers_to_fetch.append(\n",
    "#         str(\n",
    "#             '{} {}'.format(books[selected]['title'],books[selected]['author'])\n",
    "#         )\n",
    "#     )\n",
    "\n",
    "## Debug:\n",
    "## - Confirm that user has not deselected any items\n",
    "print(book_covers_to_fetch)"
   ]
  },
  {
   "cell_type": "code",
   "execution_count": 19,
   "metadata": {},
   "outputs": [],
   "source": [
    "## Documentation:\n",
    "## Complex css selector, to avoid using loops and itterators with javascript or python\n",
    "## Example:\n",
    "## browser.find_element(By.CSS_SELECTOR, 'a[title*=\"{}\"]'.format( books[ui_dropdown.index]['title']) )"
   ]
  },
  {
   "cell_type": "code",
   "execution_count": 20,
   "metadata": {},
   "outputs": [],
   "source": [
    "## We will need to URL Encode the following search queries:\n",
    "## GoodReads.com\n",
    "## ListenNotes.com \n",
    " \n",
    "import urllib.parse"
   ]
  },
  {
   "cell_type": "code",
   "execution_count": 21,
   "metadata": {
    "scrolled": false
   },
   "outputs": [
    {
     "name": "stdout",
     "output_type": "stream",
     "text": [
      "https://www.goodreads.com/search?utf8=%E2%9C%93&q=John%20le%20Carr%C3%A9%20A%20Perfect%20Spy&search_type=books\n",
      "https://www.goodreads.com/search?utf8=%E2%9C%93&q=Stephen%20King%20It&search_type=books\n",
      "https://www.goodreads.com/search?utf8=%E2%9C%93&q=Louis%20L%27Amour%20Last%20of%20the%20Breed&search_type=books\n",
      "https://www.goodreads.com/search?utf8=%E2%9C%93&q=Tom%20Clancy%20Red%20Storm%20Rising&search_type=books\n",
      "https://www.goodreads.com/search?utf8=%E2%9C%93&q=Robert%20Ludlum%20The%20Bourne%20Supremacy&search_type=books\n",
      "https://www.goodreads.com/search?utf8=%E2%9C%93&q=Danielle%20Steel%20Wanderlust&search_type=books\n"
     ]
    }
   ],
   "source": [
    "## Edgecase:\n",
    "## Wikipedia is unreliable for finding consitent book covers!\n",
    "## Use GoodReads search urls to select the first result\n",
    "## Example: \n",
    "## https://www.goodreads.com/search?utf8=%E2%9C%93&q={TITLE}+{AUTHOR}&search_type=books\n",
    "\n",
    "book_queries = []\n",
    "\n",
    "for item in range(len(book_covers_to_fetch)):\n",
    "    selected = ui_book_selection.index[item]\n",
    "    \n",
    "    ## Edgecase:\n",
    "    ## Searching for book titles that are two letters, or common words\n",
    "    ## Must include the author name to generate results\n",
    "    \n",
    "    book_search_query = [\n",
    "        books[selected]['author'],\n",
    "        ' ',\n",
    "        books[selected]['title']\n",
    "    ]\n",
    "    \n",
    "    goodreads_url = [\n",
    "        'https://www.goodreads.com/search?utf8=%E2%9C%93&q=',\n",
    "        urllib.parse.quote(''.join(book_search_query)),\n",
    "        '&search_type=books'\n",
    "    ]\n",
    "    \n",
    "    book_queries.append(''.join(goodreads_url))\n",
    "\n",
    "        \n",
    "#     listnotes_url = 'https://www.goodreads.com/search?utf8=%E2%9C%93&q=',        \n",
    "#     book_queries.append(\n",
    "#         'https://www.goodreads.com/search?utf8=%E2%9C%93&q={}&search_type=books'.format(urllib.parse.quote(item))\n",
    "#     )\n",
    "\n",
    "for query in book_queries:\n",
    "    print( query )"
   ]
  },
  {
   "cell_type": "code",
   "execution_count": 22,
   "metadata": {},
   "outputs": [],
   "source": [
    "book_images = []\n",
    "book_covers = []\n",
    "book_urls = []\n",
    "url_match = None\n",
    "\n"
   ]
  },
  {
   "cell_type": "code",
   "execution_count": 23,
   "metadata": {},
   "outputs": [
    {
     "data": {
      "application/vnd.jupyter.widget-view+json": {
       "model_id": "f845e382d29748c19498c27b25b91c28",
       "version_major": 2,
       "version_minor": 0
      },
      "text/plain": [
       "IntProgress(value=0, layout=Layout(width='100%'), max=6)"
      ]
     },
     "metadata": {},
     "output_type": "display_data"
    },
    {
     "name": "stdout",
     "output_type": "stream",
     "text": [
      "now searching:  https://www.goodreads.com/search?utf8=%E2%9C%93&q=John%20le%20Carr%C3%A9%20A%20Perfect%20Spy&search_type=books\n",
      "goodreads: no popup\n",
      "now searching:  https://www.goodreads.com/search?utf8=%E2%9C%93&q=Stephen%20King%20It&search_type=books\n",
      "goodreads: no popup\n",
      "now searching:  https://www.goodreads.com/search?utf8=%E2%9C%93&q=Louis%20L%27Amour%20Last%20of%20the%20Breed&search_type=books\n",
      "goodreads: no popup\n",
      "now searching:  https://www.goodreads.com/search?utf8=%E2%9C%93&q=Tom%20Clancy%20Red%20Storm%20Rising&search_type=books\n",
      "goodreads: no popup\n",
      "now searching:  https://www.goodreads.com/search?utf8=%E2%9C%93&q=Robert%20Ludlum%20The%20Bourne%20Supremacy&search_type=books\n",
      "goodreads: no popup\n",
      "now searching:  https://www.goodreads.com/search?utf8=%E2%9C%93&q=Danielle%20Steel%20Wanderlust&search_type=books\n",
      "goodreads: no popup\n",
      "complete\n"
     ]
    }
   ],
   "source": [
    "## UIUX:\n",
    "## Progress bar for loading the book queries\n",
    "## TODO: could be a dynamic function, to call the len(list_to_messure)\n",
    "## NOTE:\n",
    "## increment with the following:\n",
    "## ui_progress_bar.value += 1\n",
    "## ui_progress_count += 1\n",
    "\n",
    "\n",
    "ui_progress_count = 0\n",
    "ui_progress_bar = widgets.IntProgress(\n",
    "    min=0,\n",
    "    max=len(book_queries),\n",
    "    layout={'width': '100%'},\n",
    ")\n",
    "\n",
    "display(ui_progress_bar)\n",
    "    \n",
    "## Loop throught each Book Query:\n",
    "for item in range(len(book_queries)):\n",
    "    ui_progress_bar.value += 1\n",
    "    \n",
    "    \n",
    "    selected_item = ui_book_selection.index[item]\n",
    "    selected_title = book_covers_to_fetch[item]\n",
    "    \n",
    "    \n",
    "    \n",
    "    # Debug:\n",
    "    print('now searching: ', book_queries[item] )\n",
    "    browser.get( book_queries[item] )\n",
    "    \n",
    "    ## Edgecase:\n",
    "    ## Popup may appear when loading multiple URLS for an email signup\n",
    "    try:\n",
    "        popup_elements = browser.find_elements(By.CSS_SELECTOR, 'img[alt^=\"Dismiss\"')\n",
    "        for icon in popup_elements:\n",
    "            icon.click()\n",
    "    except:\n",
    "        print('goodreads: no popup')\n",
    "    \n",
    "    ## Edgecase:\n",
    "    ## Some titles are truncated and shortend when selecting the image text\n",
    "    ## Use the span selection text for more reliable results.\n",
    "    result_elements = browser.find_elements(By.TAG_NAME, 'tr')\n",
    "    \n",
    "    ## Edgecase:\n",
    "    ## Search the book results from the query for the EXACT match of the selected title\n",
    "    ## Select the correct result and scrape the URL\n",
    "    ## Test currect selected title against found table row results from seach query\n",
    "    for result in range(len(result_elements)):\n",
    "        title_result = result_elements[result].get_attribute('innerText').splitlines()[0].strip()\n",
    "        ## Debug:\n",
    "        # print(title_result)\n",
    "        if len(title_result) is len(selected_title):\n",
    "            ## Debug:\n",
    "            # print('match: ', result)\n",
    "            url_match = result_elements[result].find_element(By.TAG_NAME, 'a').get_attribute('href')\n",
    "        else:\n",
    "        ## Edgecase:\n",
    "        ## There are books that truncate or add in extra sub titles to the match\n",
    "        ## In that event, use a CSS_SELECTOR regex for nearest match.\n",
    "            url_match = browser.find_element(By.CSS_SELECTOR, 'a[title*=\"{}\"]'.format( selected_title ) ).get_attribute('href')\n",
    "\n",
    "    ## Debug:\n",
    "    # print('url_match: ', url_match )\n",
    "    browser.get(url_match)\n",
    "    cover_image = browser.find_element(By.CSS_SELECTOR, '.editionCover > img').get_attribute('src')\n",
    "    book_covers.append( cover_image )\n",
    "    ui_progress_count += 1\n",
    "\n",
    "print('complete')"
   ]
  },
  {
   "cell_type": "code",
   "execution_count": 24,
   "metadata": {},
   "outputs": [
    {
     "data": {
      "application/vnd.jupyter.widget-view+json": {
       "model_id": "e2f6e1db04244a62b189f50b2c37b6b6",
       "version_major": 2,
       "version_minor": 0
      },
      "text/plain": [
       "HTML(value='[\\'<img sytle=\"display: inline-block\" width=\"150\" src=\"https://i.gr-assets.com/images/S/compressed…"
      ]
     },
     "metadata": {},
     "output_type": "display_data"
    }
   ],
   "source": [
    "html_data = []\n",
    "for image in range(len(book_covers)):\n",
    "     html_data.append('<img sytle=\"display: inline-block\" width=\"150\" src=\"{}\">'\n",
    "        .format( book_covers[image] )\n",
    "    )\n",
    "\n",
    "\n",
    "ui_html = widgets.HTML(\n",
    "    layout={'width': '100%'},\n",
    "    value = str(html_data)\n",
    ")\n",
    "\n",
    "display( ui_html )"
   ]
  },
  {
   "cell_type": "code",
   "execution_count": null,
   "metadata": {
    "scrolled": true
   },
   "outputs": [],
   "source": []
  },
  {
   "cell_type": "code",
   "execution_count": 25,
   "metadata": {},
   "outputs": [],
   "source": [
    "\n",
    "\n",
    "# for item in range(len(ui_book_selection.index)):\n",
    "#     selected = ui_book_selection.index[item]\n",
    "#     print(books[selected]['title'], ' : ' ,books[selected]['author'])\n",
    "\n",
    "# for item in book_covers_to_fetch:\n",
    "#     book_queries.append(\n",
    "#         'https://www.goodreads.com/search?utf8=%E2%9C%93&q={}&search_type=books'.format(urllib.parse.quote(item))\n",
    "#     )\n",
    "\n",
    "# print( book_queries )"
   ]
  },
  {
   "cell_type": "code",
   "execution_count": 26,
   "metadata": {},
   "outputs": [],
   "source": [
    "stitcher_queries = []\n",
    "listennotes_queries = []\n",
    "\n",
    "## Run the code to create the podcast search query URLS:\n",
    "\n",
    "for item in range(len(ui_book_selection.index)):\n",
    "    selected = ui_book_selection.index[item]\n",
    "    selected_book = [ books[selected]['title'],' ',books[selected]['author'] ]\n",
    "    \n",
    "    stitcher_query_url = [\n",
    "        'https://www.stitcher.com/search?q=',\n",
    "        urllib.parse.quote(''.join(selected_book)),\n",
    "        '#episodes'\n",
    "    ]\n",
    "    \n",
    "    listennotes_url = [\n",
    "        'https://www.listennotes.com/search/?q=',\n",
    "        urllib.parse.quote(''.join(selected_book)),\n",
    "        '&sort_by_date=0&scope=episode&offset=0&language=Any%20language&len_min=0'\n",
    "    ]\n",
    "\n",
    "    stitcher_queries.append(''.join(stitcher_query_url))\n",
    "    listennotes_queries.append(''.join(listennotes_url))\n",
    "    \n",
    "#     selected_book = [ str(books[selected]['title']), ' ', str(books[selected]['author'])]\n",
    "#     selected_query = urllib.parse.quote(str(selected_book))\n",
    "#     book_query_url = ['https://www.listennotes.com/search/?q=', selected_query, '&sort_by_date=0&scope=episode&offset=0&language=Any%20language&len_min=0']\n",
    "#     podcast_queries.append(str(book_query_url))"
   ]
  },
  {
   "cell_type": "code",
   "execution_count": 27,
   "metadata": {
    "scrolled": true
   },
   "outputs": [
    {
     "name": "stdout",
     "output_type": "stream",
     "text": [
      "1: \n",
      " stitcher:  \n",
      " ‣  https://www.stitcher.com/search?q=A%20Perfect%20Spy%20John%20le%20Carr%C3%A9#episodes \n",
      " listennotes:  \n",
      " ‣ https://www.listennotes.com/search/?q=A%20Perfect%20Spy%20John%20le%20Carr%C3%A9&sort_by_date=0&scope=episode&offset=0&language=Any%20language&len_min=0\n",
      "2: \n",
      " stitcher:  \n",
      " ‣  https://www.stitcher.com/search?q=It%20Stephen%20King#episodes \n",
      " listennotes:  \n",
      " ‣ https://www.listennotes.com/search/?q=It%20Stephen%20King&sort_by_date=0&scope=episode&offset=0&language=Any%20language&len_min=0\n",
      "3: \n",
      " stitcher:  \n",
      " ‣  https://www.stitcher.com/search?q=Last%20of%20the%20Breed%20Louis%20L%27Amour#episodes \n",
      " listennotes:  \n",
      " ‣ https://www.listennotes.com/search/?q=Last%20of%20the%20Breed%20Louis%20L%27Amour&sort_by_date=0&scope=episode&offset=0&language=Any%20language&len_min=0\n",
      "4: \n",
      " stitcher:  \n",
      " ‣  https://www.stitcher.com/search?q=Red%20Storm%20Rising%20Tom%20Clancy#episodes \n",
      " listennotes:  \n",
      " ‣ https://www.listennotes.com/search/?q=Red%20Storm%20Rising%20Tom%20Clancy&sort_by_date=0&scope=episode&offset=0&language=Any%20language&len_min=0\n",
      "5: \n",
      " stitcher:  \n",
      " ‣  https://www.stitcher.com/search?q=The%20Bourne%20Supremacy%20Robert%20Ludlum#episodes \n",
      " listennotes:  \n",
      " ‣ https://www.listennotes.com/search/?q=The%20Bourne%20Supremacy%20Robert%20Ludlum&sort_by_date=0&scope=episode&offset=0&language=Any%20language&len_min=0\n",
      "6: \n",
      " stitcher:  \n",
      " ‣  https://www.stitcher.com/search?q=Wanderlust%20Danielle%20Steel#episodes \n",
      " listennotes:  \n",
      " ‣ https://www.listennotes.com/search/?q=Wanderlust%20Danielle%20Steel&sort_by_date=0&scope=episode&offset=0&language=Any%20language&len_min=0\n"
     ]
    }
   ],
   "source": [
    "## Edgecase:\n",
    "## There are times when there will be ZERO results\n",
    "## Example:\n",
    "## https://www.stitcher.com/search?q=Random%20Harvest%20James%20Hilton#episodes\n",
    "## Possible Solution:\n",
    "## More work, pulling in both Sticher and ListenNotes results, take the one that has an option\n",
    "\n",
    "for result in range(len(stitcher_queries)):\n",
    "    print(\n",
    "        str(result+1)+':',\n",
    "        '\\n',\n",
    "        'stitcher: ',\n",
    "        '\\n ‣ ', stitcher_queries[result],\n",
    "        '\\n',\n",
    "        'listennotes: ',\n",
    "        '\\n ‣', listennotes_queries[result]\n",
    "    )\n",
    "\n",
    "\n",
    "\n",
    "# for query in sticher_queries:\n",
    "#     print('sticher:', query )\n",
    "    \n",
    "# for query in listennotes_queries:\n",
    "#     print('listennotes:', query)"
   ]
  },
  {
   "cell_type": "code",
   "execution_count": 28,
   "metadata": {},
   "outputs": [],
   "source": [
    "## Load tools for waiting and testing for elements inside DOM\n",
    "\n",
    "from selenium.common.exceptions import TimeoutException\n",
    "from selenium.webdriver.support.ui import WebDriverWait\n",
    "from selenium.webdriver.support import expected_conditions as EC\n"
   ]
  },
  {
   "cell_type": "code",
   "execution_count": 29,
   "metadata": {},
   "outputs": [
    {
     "data": {
      "application/vnd.jupyter.widget-view+json": {
       "model_id": "e8205195237c4ecb80772e05af8d1459",
       "version_major": 2,
       "version_minor": 0
      },
      "text/plain": [
       "IntProgress(value=0, layout=Layout(width='100%'), max=6)"
      ]
     },
     "metadata": {},
     "output_type": "display_data"
    },
    {
     "name": "stdout",
     "output_type": "stream",
     "text": [
      "https://www.stitcher.com/search?q=A%20Perfect%20Spy%20John%20le%20Carr%C3%A9#episodes\n",
      "https://www.stitcher.com/search?q=It%20Stephen%20King#episodes\n",
      "https://www.stitcher.com/search?q=Last%20of%20the%20Breed%20Louis%20L%27Amour#episodes\n",
      "https://www.stitcher.com/search?q=Red%20Storm%20Rising%20Tom%20Clancy#episodes\n",
      "https://www.stitcher.com/search?q=The%20Bourne%20Supremacy%20Robert%20Ludlum#episodes\n",
      "https://www.stitcher.com/search?q=Wanderlust%20Danielle%20Steel#episodes\n",
      "\n",
      " complete\n"
     ]
    }
   ],
   "source": [
    "## Note:\n",
    "## Get Stitcher podcast results for each query:\n",
    "## TODO: could refactor this into an object to call properties\n",
    "\n",
    "stitcher_results = []\n",
    "podcast_covers = []\n",
    "podcast_descriptions = []\n",
    "podcast_urls = []\n",
    "podcast_episodes = []\n",
    "podcast_publishers = []\n",
    "\n",
    "## UIUX:\n",
    "## Progress bar for loading the podcast queries\n",
    "## TODO: could be a dynamic function, to call the len(list_to_messure)\n",
    "\n",
    "ui_progress_count = 0\n",
    "ui_progress_bar = widgets.IntProgress(\n",
    "    min=0,\n",
    "    max=len(book_queries),\n",
    "    layout={'width': '100%'},\n",
    ")\n",
    "\n",
    "display(ui_progress_bar)    \n",
    "\n",
    "\n",
    "## stitcher_query_url\n",
    "\n",
    "for query in stitcher_queries:\n",
    "    print( query )\n",
    "    browser.get( query )\n",
    "    browser.implicitly_wait(1)\n",
    "    timeout_delay = 5\n",
    "    try:\n",
    "        ui_progress_bar.value += 1\n",
    "        element_present = EC.presence_of_element_located((By.CLASS_NAME, 'play'))\n",
    "        WebDriverWait(browser, timeout_delay).until(element_present)\n",
    "\n",
    "        pod_cover = browser.find_element(By.CSS_SELECTOR, 'ul[id^=\"episodeResultsList\"] > li:first-child > a > img')\n",
    "        pod_description = browser.find_element(By.CSS_SELECTOR, 'ul[id^=\"episodeResultsList\"] > li:first-child > a > p')\n",
    "        pod_episode = browser.find_element(By.CSS_SELECTOR, 'ul[id^=\"episodeResultsList\"] > li:first-child > a > h4')\n",
    "        pod_producer = browser.find_element(By.CSS_SELECTOR, 'ul[id^=\"episodeResultsList\"] > li:first-child > a > div[class^=\"info\"]')\n",
    "\n",
    "        \n",
    "        podcast_episodes.append(pod_episode.get_attribute('innerText'))\n",
    "        podcast_covers.append(pod_cover.get_attribute('src'))\n",
    "        podcast_descriptions.append(pod_description.get_attribute('innerText'))\n",
    "        podcast_publishers.append(pod_producer.get_attribute('innerText'))\n",
    "        \n",
    "        \n",
    "        pod_result = browser.find_element(By.CSS_SELECTOR, 'ul[id^=\"episodeResultsList\"] > li:first-child > a')\n",
    "        pod_result.click()\n",
    "        \n",
    "        pod_audio = browser.find_element(By.TAG_NAME, 'audio').get_attribute('src')\n",
    "        \n",
    "        stitcher_results.append( pod_audio )\n",
    "        ui_progress_count += 1\n",
    "    except TimeoutException:\n",
    "        ui_progress_bar.value += 1\n",
    "        print('Error: Timed Out Waiting For Element Presence')\n",
    "        stitcher_results.append(None)\n",
    "        podcast_publishers.append(None)\n",
    "        podcast_episodes.append(None)\n",
    "        podcast_covers.append(None)\n",
    "        podcast_descriptions.append(None)\n",
    "        ui_progress_count += 1\n",
    "\n",
    "print('\\n', 'complete')"
   ]
  },
  {
   "cell_type": "code",
   "execution_count": 30,
   "metadata": {},
   "outputs": [
    {
     "name": "stdout",
     "output_type": "stream",
     "text": [
      "https://media.acast.com/intelligencesquared/ianflemingvsjohnlecarre/media.mp3\n",
      "http://traffic.libsyn.com/jackandnickhorrorshow/It__Stephen_King.m4a?dest-id=313398\n",
      "http://traffic.libsyn.com/effortlessenglish/True_Education__Louis_Lamour.mp3?dest-id=17067\n",
      "http://media.blubrry.com/gameorama/gameorama.com.br/wp-content/uploads/podcasts/gameorama/gameorama_21_tomclancy.mp3\n",
      "https://mcdn.podbean.com/mf/web/pnz4kf/NPPBOURNE03.mp3\n",
      "https://www.podtrac.com/pts/redirect.mp3/traffic.megaphone.fm/HSW1069448799.mp3\n"
     ]
    }
   ],
   "source": [
    "for match in stitcher_results:\n",
    "    print( match )"
   ]
  },
  {
   "cell_type": "code",
   "execution_count": 31,
   "metadata": {},
   "outputs": [
    {
     "data": {
      "application/vnd.jupyter.widget-view+json": {
       "model_id": "86e293fd6b3647b8b76176c8227c532a",
       "version_major": 2,
       "version_minor": 0
      },
      "text/plain": [
       "HTML(value='\\n    <div class=\"container\" style=\"display: flex; flex-direction: row; flex-wrap: wrap; width: 10…"
      ]
     },
     "metadata": {},
     "output_type": "display_data"
    }
   ],
   "source": [
    "items_layout = Layout(flex='', width='')\n",
    "\n",
    "\n",
    "flex_layout = Layout(\n",
    "    display='flex',\n",
    "    flex_direction='column',\n",
    "    flex_wrap='wrap',\n",
    "    justify_content='center',\n",
    "    align_items='center',\n",
    "    align_content='center',\n",
    "    border='solid',\n",
    "    height='100%',\n",
    "    width='auto'\n",
    ")\n",
    "\n",
    "# words = ['correct', 'horse', 'battery', 'staple']\n",
    "# items = [Button(description=w, layout=items_layout, button_style='danger') for w in words]\n",
    "\n",
    "# display( Box(children=book_covers[item], layout=box_layout) )\n",
    "\n",
    "\n",
    "css_row = 'display: flex; flex-direction: row; flex-wrap: wrap; width: 100%;'\n",
    "css_column = 'display: flex; flex-direction: column; flex-basis: 100%; flex: 1;'\n",
    "\n",
    "# display: flex; flex: 1; flex-basis: 100%;\n",
    "html_data = []\n",
    "for item in range(len(book_covers)):\n",
    "    html_data.append('''\n",
    "    <div class=\"container\" style=\"display: flex; flex-direction: row; flex-wrap: wrap; width: 100%;\">\n",
    "        \n",
    "        <img style=\"height: 150px;\" src=\"{}\">\n",
    "        <img style=\"width: 90px;\" src=\"{}\">\n",
    "        \n",
    "        <div style=\"flex-direction: column; flex-basis: 100%; flex: 1; justify-content: center;\">\n",
    "            <p style=\"flex-basis: 50%;\">\n",
    "                <b id=\"publisher\">{}</b>\n",
    "                <h5 id=\"episode\">Episode: {}</h5>\n",
    "                <h5 style=\"font-style:italic;\" id=\"description\">Description: {}</h5>\n",
    "            </p>\n",
    "            <audio style=\"flex-basis: 50%;\" controls src=\"{}\"></audio>\n",
    "        </div>\n",
    "    </div>\n",
    "    '''.format(\n",
    "        book_covers[item],\n",
    "        podcast_covers[item],\n",
    "        \n",
    "        podcast_publishers[item],\n",
    "        podcast_episodes[item],\n",
    "        podcast_descriptions[item],\n",
    "        \n",
    "        stitcher_results[item]\n",
    "    )\n",
    ")\n",
    "\n",
    "\n",
    "display( widgets.HTML( ''.join(html_data) , layout=flex_layout) )\n",
    "\n",
    "# for book in book_covers:\n",
    "#     print( book )"
   ]
  },
  {
   "cell_type": "code",
   "execution_count": null,
   "metadata": {},
   "outputs": [],
   "source": []
  },
  {
   "cell_type": "code",
   "execution_count": null,
   "metadata": {},
   "outputs": [],
   "source": []
  },
  {
   "cell_type": "code",
   "execution_count": null,
   "metadata": {},
   "outputs": [],
   "source": [
    "# html_data = []\n",
    "# for item in range(len(book_covers)):\n",
    "#      html_data.append('''\n",
    "     \n",
    "#      <p>\n",
    "#          <img sytle=\"display: inline-block\" width=\"150\" src=\"{}\">\n",
    "#          <li sytle=\"display: inline-block\">\n",
    "#             <img sytle=\"display: inline-block\" width=\"90\" src=\"{}\">\n",
    "#             <p sytle=\"display: inline-block\">{}</p>\n",
    "#             <audio controls src=\"{}\"></audio>\n",
    "#          </li>\n",
    "#      </p>\n",
    "#      '''\n",
    "#         .format(\n",
    "#             book_covers[item],\n",
    "#             podcast_covers[item],\n",
    "#             podcast_descriptions[item],\n",
    "#             stitcher_results[item]\n",
    "#             )\n",
    "#     )\n",
    "\n",
    "\n",
    "# ui_html = widgets.HTML(\n",
    "#     layout={'width': '100%'},\n",
    "#     value = str(html_data)\n",
    "# )\n",
    "\n",
    "# display( ui_html )"
   ]
  },
  {
   "cell_type": "code",
   "execution_count": null,
   "metadata": {},
   "outputs": [],
   "source": []
  },
  {
   "cell_type": "code",
   "execution_count": null,
   "metadata": {},
   "outputs": [],
   "source": []
  },
  {
   "cell_type": "code",
   "execution_count": null,
   "metadata": {},
   "outputs": [],
   "source": []
  },
  {
   "cell_type": "code",
   "execution_count": null,
   "metadata": {},
   "outputs": [],
   "source": []
  },
  {
   "cell_type": "code",
   "execution_count": null,
   "metadata": {},
   "outputs": [],
   "source": []
  },
  {
   "cell_type": "code",
   "execution_count": null,
   "metadata": {},
   "outputs": [],
   "source": []
  },
  {
   "cell_type": "code",
   "execution_count": null,
   "metadata": {},
   "outputs": [],
   "source": []
  },
  {
   "cell_type": "code",
   "execution_count": null,
   "metadata": {},
   "outputs": [],
   "source": []
  },
  {
   "cell_type": "code",
   "execution_count": null,
   "metadata": {},
   "outputs": [],
   "source": []
  },
  {
   "cell_type": "code",
   "execution_count": null,
   "metadata": {},
   "outputs": [],
   "source": []
  },
  {
   "cell_type": "code",
   "execution_count": null,
   "metadata": {},
   "outputs": [],
   "source": []
  },
  {
   "cell_type": "code",
   "execution_count": null,
   "metadata": {},
   "outputs": [],
   "source": []
  },
  {
   "cell_type": "code",
   "execution_count": null,
   "metadata": {},
   "outputs": [],
   "source": []
  },
  {
   "cell_type": "code",
   "execution_count": null,
   "metadata": {},
   "outputs": [],
   "source": []
  },
  {
   "cell_type": "code",
   "execution_count": null,
   "metadata": {},
   "outputs": [],
   "source": []
  },
  {
   "cell_type": "code",
   "execution_count": null,
   "metadata": {},
   "outputs": [],
   "source": [
    "## Notes:\n",
    "\n",
    "\n",
    "# First List Element:  ul > li > a > div[class^=\"play\"].click()\n",
    "\n",
    "# https://www.stitcher.com/podcast/the-joe-rogan-experience/e/46639950?autoplay=false\n",
    "# document.getElementsByTagName('audio')[0].getAttribute('src')\n",
    "\n",
    "\n"
   ]
  },
  {
   "cell_type": "code",
   "execution_count": null,
   "metadata": {},
   "outputs": [],
   "source": []
  },
  {
   "cell_type": "code",
   "execution_count": null,
   "metadata": {},
   "outputs": [],
   "source": []
  },
  {
   "cell_type": "code",
   "execution_count": null,
   "metadata": {},
   "outputs": [],
   "source": [
    "# for item in range(len(book_queries)):\n",
    "#     progress_bar.value += 1\n",
    "#     # selected_item = ui_book_selection.index[item]\n",
    "#     selected_title = book_covers_to_fetch[item]\n",
    "#     browser.get( book_queries[item] )\n",
    "#     ## Edgecase:\n",
    "#     ## Some titles are truncated and shortend when selecting the image text\n",
    "#     ## Use the span selection text for more reliable results.\n",
    "#     result_elements = browser.find_elements(By.TAG_NAME, 'tr')\n",
    "    \n",
    "#     ## Edgecase:\n",
    "#     ## Search the book results from the query for the EXACT match of the selected title\n",
    "#     ## Select the correct result and scrape the URL\n",
    "#     ## Test currect selected title against found table row results from seach query\n",
    "#     for result in range(len(result_elements)):\n",
    "#         title_result = result_elements[result].get_attribute('innerText').splitlines()[0].strip()\n",
    "#         ## Debug:\n",
    "#         # print(title_result)\n",
    "#         if len(title_result) is len(selected_title):\n",
    "#             ## Debug:\n",
    "#             # print('match: ', result)\n",
    "#             url_match = result_elements[result].find_element(By.TAG_NAME, 'a').get_attribute('href')\n",
    "#         else:\n",
    "#         ## Edgecase:\n",
    "#         ## There are books that truncate or add in extra sub titles to the match\n",
    "#         ## In that event, use a CSS_SELECTOR regex for nearest match.\n",
    "#             url_match = browser.find_element(By.CSS_SELECTOR, 'a[title*=\"{}\"]'.format( selected_title ) ).get_attribute('href')\n",
    "\n",
    "#     ## Debug:\n",
    "#     # print('url_match: ', url_match )\n",
    "#     browser.get(url_match)\n",
    "#     cover_image = browser.find_element(By.CSS_SELECTOR, '.editionCover > img').get_attribute('src')\n",
    "#     book_covers.append( cover_image )\n",
    "#     progress_count += 1\n",
    "\n",
    "# print('complete')"
   ]
  }
 ],
 "metadata": {
  "kernelspec": {
   "display_name": "Python 3",
   "language": "python",
   "name": "python3"
  },
  "language_info": {
   "codemirror_mode": {
    "name": "ipython",
    "version": 3
   },
   "file_extension": ".py",
   "mimetype": "text/x-python",
   "name": "python",
   "nbconvert_exporter": "python",
   "pygments_lexer": "ipython3",
   "version": "3.7.3"
  }
 },
 "nbformat": 4,
 "nbformat_minor": 2
}
